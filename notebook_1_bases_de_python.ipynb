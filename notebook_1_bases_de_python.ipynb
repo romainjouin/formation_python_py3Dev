{
 "cells": [
  {
   "cell_type": "code",
   "execution_count": 4,
   "metadata": {},
   "outputs": [],
   "source": [
    "def push(message):\n",
    "    \"\"\"\n",
    "    Save current notebook and push whole current dir to origin/master\n",
    "    \n",
    "    Param:\n",
    "        message : str \n",
    "            Commit's message\n",
    "    \n",
    "    Return:\n",
    "        None\n",
    "    \"\"\"\n",
    "    assert(len(message.strip())>10)\n",
    "    import subprocess\n",
    "    from IPython.display import display, Javascript\n",
    "    \n",
    "    cmds = [  \"git add .\",\n",
    "              \"git commit -m \", \n",
    "              \"git push origin master\"]\n",
    "    \n",
    "    # save current notebook\n",
    "    display(Javascript('IPython.notebook.save_checkpoint();'))\n",
    "    for cmd in cmds:\n",
    "        cmd = cmd.split()\n",
    "        if \"commit\" in cmd: \n",
    "            cmd.append( f\"'{message}'\") \n",
    "        print(\" \".join(cmd))\n",
    "        subprocess.check_output(cmd)"
   ]
  },
  {
   "cell_type": "code",
   "execution_count": null,
   "metadata": {},
   "outputs": [],
   "source": [
    "push(\"commiting to push\")"
   ]
  },
  {
   "cell_type": "markdown",
   "metadata": {},
   "source": [
    "# 1) unpacking"
   ]
  },
  {
   "cell_type": "markdown",
   "metadata": {},
   "source": [
    "## 1.1) affectation classique"
   ]
  },
  {
   "cell_type": "code",
   "execution_count": 20,
   "metadata": {},
   "outputs": [],
   "source": [
    "nom = \"romain\"\n",
    "prenom = \"jouin\""
   ]
  },
  {
   "cell_type": "code",
   "execution_count": 25,
   "metadata": {},
   "outputs": [],
   "source": [
    "message = f\"Bonjour {nom}, {prenom}\" # Note : le [ f ] en début de string remplace les variables entre accolades par les valeurs "
   ]
  },
  {
   "cell_type": "markdown",
   "metadata": {},
   "source": [
    "## 1.2) unpacking"
   ]
  },
  {
   "cell_type": "markdown",
   "metadata": {},
   "source": [
    "#### ex 1"
   ]
  },
  {
   "cell_type": "code",
   "execution_count": 26,
   "metadata": {},
   "outputs": [],
   "source": [
    "nom, prenom = \"romain\", \"jouin\""
   ]
  },
  {
   "cell_type": "code",
   "execution_count": 27,
   "metadata": {},
   "outputs": [
    {
     "data": {
      "text/plain": [
       "'Bonjour romain, jouin'"
      ]
     },
     "execution_count": 27,
     "metadata": {},
     "output_type": "execute_result"
    }
   ],
   "source": [
    "f\"Bonjour {nom}, {prenom}\""
   ]
  },
  {
   "cell_type": "markdown",
   "metadata": {},
   "source": [
    "#### ex 2"
   ]
  },
  {
   "cell_type": "code",
   "execution_count": 29,
   "metadata": {},
   "outputs": [],
   "source": [
    "valeurs  = [\"2021/03/26\", \"Renault\", \"33 €\"]"
   ]
  },
  {
   "cell_type": "code",
   "execution_count": 30,
   "metadata": {},
   "outputs": [],
   "source": [
    "date, action, valeur = valeurs"
   ]
  },
  {
   "cell_type": "code",
   "execution_count": 31,
   "metadata": {},
   "outputs": [
    {
     "name": "stdout",
     "output_type": "stream",
     "text": [
      "2021/03/26\n"
     ]
    }
   ],
   "source": [
    "print(date)"
   ]
  },
  {
   "cell_type": "markdown",
   "metadata": {},
   "source": [
    "#### ex 3"
   ]
  },
  {
   "cell_type": "code",
   "execution_count": 33,
   "metadata": {},
   "outputs": [],
   "source": [
    "a,b,c,d,e = \"abcde\""
   ]
  },
  {
   "cell_type": "code",
   "execution_count": 35,
   "metadata": {},
   "outputs": [
    {
     "name": "stdout",
     "output_type": "stream",
     "text": [
      "a e\n"
     ]
    }
   ],
   "source": [
    "print (a, e)"
   ]
  },
  {
   "cell_type": "markdown",
   "metadata": {},
   "source": [
    "#### ex 4"
   ]
  },
  {
   "cell_type": "code",
   "execution_count": 37,
   "metadata": {},
   "outputs": [],
   "source": [
    "valeurs_2 = valeurs + valeurs"
   ]
  },
  {
   "cell_type": "code",
   "execution_count": 38,
   "metadata": {},
   "outputs": [
    {
     "data": {
      "text/plain": [
       "['2021/03/26', 'Renault', '33 €', '2021/03/26', 'Renault', '33 €']"
      ]
     },
     "execution_count": 38,
     "metadata": {},
     "output_type": "execute_result"
    }
   ],
   "source": [
    "valeurs_2"
   ]
  },
  {
   "cell_type": "code",
   "execution_count": 39,
   "metadata": {},
   "outputs": [],
   "source": [
    "date, action, valeur, *extra = valeurs_2"
   ]
  },
  {
   "cell_type": "code",
   "execution_count": 40,
   "metadata": {},
   "outputs": [
    {
     "data": {
      "text/plain": [
       "['2021/03/26', 'Renault', '33 €']"
      ]
     },
     "execution_count": 40,
     "metadata": {},
     "output_type": "execute_result"
    }
   ],
   "source": [
    "extra"
   ]
  },
  {
   "cell_type": "markdown",
   "metadata": {},
   "source": [
    "# 2) Garder en mémoire le n dernier information"
   ]
  },
  {
   "cell_type": "markdown",
   "metadata": {},
   "source": [
    "#### ex : on veut une moyenne glissante des valeurs d'une action sur la semaine écoulée"
   ]
  },
  {
   "cell_type": "code",
   "execution_count": 42,
   "metadata": {},
   "outputs": [],
   "source": [
    "import random"
   ]
  },
  {
   "cell_type": "code",
   "execution_count": 50,
   "metadata": {},
   "outputs": [],
   "source": [
    "def get_new_valeur(current_value):\n",
    "    variation  = random.random() * random.choice([-1, +1])\n",
    "    new_value  = current_value + variation\n",
    "    return new_value"
   ]
  },
  {
   "cell_type": "code",
   "execution_count": 56,
   "metadata": {},
   "outputs": [],
   "source": [
    "from collections import deque"
   ]
  },
  {
   "cell_type": "code",
   "execution_count": 61,
   "metadata": {},
   "outputs": [],
   "source": [
    "last_valeur = deque(maxlen=1)\n",
    "valeur_de_depart = 10\n",
    "last_valeur.append(valeur_de_depart)\n"
   ]
  },
  {
   "cell_type": "code",
   "execution_count": 63,
   "metadata": {},
   "outputs": [
    {
     "name": "stdout",
     "output_type": "stream",
     "text": [
      "10.44806153430237\n",
      "10.371912691129184\n",
      "10.842920725292332\n",
      "9.62893916494084\n",
      "9.020706367487287\n",
      "10.20107674663276\n",
      "10.96937329333428\n",
      "10.888222695432441\n",
      "9.384087612710584\n",
      "10.995888888908084\n"
     ]
    }
   ],
   "source": [
    "for _ in range(10):\n",
    "    valeur_actuelle = last_valeur[0]\n",
    "    nouvelle_valeur = get_new_valeur(valeur_actuelle)\n",
    "    print(nouvelle_valeur)\n"
   ]
  },
  {
   "cell_type": "code",
   "execution_count": 64,
   "metadata": {},
   "outputs": [],
   "source": [
    "cinq_derniere_valeur = deque(maxlen=5)"
   ]
  },
  {
   "cell_type": "code",
   "execution_count": 67,
   "metadata": {},
   "outputs": [
    {
     "name": "stdout",
     "output_type": "stream",
     "text": [
      "0\n",
      "deque([10.865590641219471, 10.505283894364092, 10.908644977509496, 9.062893922634565, 9.256419088361882], maxlen=5)\n",
      "Moyenne sur 5 jours glissants : 10.119766504817902\n",
      "1\n",
      "deque([10.505283894364092, 10.908644977509496, 9.062893922634565, 9.256419088361882, 9.703614726525402], maxlen=5)\n",
      "Moyenne sur 5 jours glissants : 9.887371321879087\n",
      "2\n",
      "deque([10.908644977509496, 9.062893922634565, 9.256419088361882, 9.703614726525402, 10.046546823783615], maxlen=5)\n",
      "Moyenne sur 5 jours glissants : 9.795623907762991\n",
      "3\n",
      "deque([9.062893922634565, 9.256419088361882, 9.703614726525402, 10.046546823783615, 9.789434702445616], maxlen=5)\n",
      "Moyenne sur 5 jours glissants : 9.571781852750217\n",
      "4\n",
      "deque([9.256419088361882, 9.703614726525402, 10.046546823783615, 9.789434702445616, 10.150474048488068], maxlen=5)\n",
      "Moyenne sur 5 jours glissants : 9.789297877920916\n",
      "5\n",
      "deque([9.703614726525402, 10.046546823783615, 9.789434702445616, 10.150474048488068, 10.832585980015784], maxlen=5)\n",
      "Moyenne sur 5 jours glissants : 10.104531256251697\n",
      "6\n",
      "deque([10.046546823783615, 9.789434702445616, 10.150474048488068, 10.832585980015784, 9.689158755328048], maxlen=5)\n",
      "Moyenne sur 5 jours glissants : 10.101640062012226\n",
      "7\n",
      "deque([9.789434702445616, 10.150474048488068, 10.832585980015784, 9.689158755328048, 9.376942919594804], maxlen=5)\n",
      "Moyenne sur 5 jours glissants : 9.967719281174464\n",
      "8\n",
      "deque([10.150474048488068, 10.832585980015784, 9.689158755328048, 9.376942919594804, 10.143946794163561], maxlen=5)\n",
      "Moyenne sur 5 jours glissants : 10.038621699518053\n",
      "9\n",
      "deque([10.832585980015784, 9.689158755328048, 9.376942919594804, 10.143946794163561, 9.784418385453863], maxlen=5)\n",
      "Moyenne sur 5 jours glissants : 9.965410566911212\n"
     ]
    }
   ],
   "source": [
    "for _ in range(10):\n",
    "    valeur_actuelle = last_valeur[0]\n",
    "    nouvelle_valeur = get_new_valeur(valeur_actuelle)\n",
    "    cinq_derniere_valeur.append(nouvelle_valeur)\n",
    "    moyenne = sum(cinq_derniere_valeur)/len(cinq_derniere_valeur)\n",
    "    print(_)\n",
    "    print(cinq_derniere_valeur)\n",
    "    print(f\"Moyenne sur 5 jours glissants : {moyenne}\")"
   ]
  },
  {
   "cell_type": "markdown",
   "metadata": {},
   "source": [
    "# 1) Transformation et réduction"
   ]
  },
  {
   "cell_type": "markdown",
   "metadata": {},
   "source": [
    "# 1.1) Fonctions de réduction : min / max / sum"
   ]
  },
  {
   "cell_type": "code",
   "execution_count": 28,
   "metadata": {},
   "outputs": [],
   "source": [
    "liste = range(6)"
   ]
  },
  {
   "cell_type": "code",
   "execution_count": 5,
   "metadata": {},
   "outputs": [
    {
     "data": {
      "text/plain": [
       "0"
      ]
     },
     "execution_count": 5,
     "metadata": {},
     "output_type": "execute_result"
    }
   ],
   "source": [
    "min(liste)"
   ]
  },
  {
   "cell_type": "code",
   "execution_count": 6,
   "metadata": {},
   "outputs": [
    {
     "data": {
      "text/plain": [
       "5"
      ]
     },
     "execution_count": 6,
     "metadata": {},
     "output_type": "execute_result"
    }
   ],
   "source": [
    "max(liste)"
   ]
  },
  {
   "cell_type": "code",
   "execution_count": 12,
   "metadata": {},
   "outputs": [
    {
     "data": {
      "text/plain": [
       "15"
      ]
     },
     "execution_count": 12,
     "metadata": {},
     "output_type": "execute_result"
    }
   ],
   "source": [
    "sum(liste)"
   ]
  },
  {
   "cell_type": "markdown",
   "metadata": {},
   "source": [
    "# 1.2) Transformation et réduction simultanée"
   ]
  },
  {
   "cell_type": "code",
   "execution_count": 9,
   "metadata": {},
   "outputs": [
    {
     "data": {
      "text/plain": [
       "55"
      ]
     },
     "execution_count": 9,
     "metadata": {},
     "output_type": "execute_result"
    }
   ],
   "source": [
    "sum([x*x for x in liste])"
   ]
  },
  {
   "cell_type": "code",
   "execution_count": 10,
   "metadata": {},
   "outputs": [
    {
     "data": {
      "text/plain": [
       "55"
      ]
     },
     "execution_count": 10,
     "metadata": {},
     "output_type": "execute_result"
    }
   ],
   "source": [
    "sum(x*x for x in liste)"
   ]
  },
  {
   "cell_type": "code",
   "execution_count": 11,
   "metadata": {},
   "outputs": [
    {
     "data": {
      "text/plain": [
       "25"
      ]
     },
     "execution_count": 11,
     "metadata": {},
     "output_type": "execute_result"
    }
   ],
   "source": [
    "max(x*x for x in liste)"
   ]
  },
  {
   "cell_type": "code",
   "execution_count": null,
   "metadata": {},
   "outputs": [],
   "source": []
  }
 ],
 "metadata": {
  "kernelspec": {
   "display_name": "Python 3",
   "language": "python",
   "name": "python3"
  },
  "language_info": {
   "codemirror_mode": {
    "name": "ipython",
    "version": 3
   },
   "file_extension": ".py",
   "mimetype": "text/x-python",
   "name": "python",
   "nbconvert_exporter": "python",
   "pygments_lexer": "ipython3",
   "version": "3.7.6"
  }
 },
 "nbformat": 4,
 "nbformat_minor": 4
}

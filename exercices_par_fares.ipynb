{
 "cells": [
  {
   "cell_type": "markdown",
   "metadata": {},
   "source": [
    "# Quelques réponses aux exercices proposés ici : \n",
    "https://blog.lucbertin.com/some-python-exercices/"
   ]
  },
  {
   "cell_type": "markdown",
   "metadata": {},
   "source": [
    "# Exo 1"
   ]
  },
  {
   "cell_type": "markdown",
   "metadata": {},
   "source": [
    "### USING COMPREHENSION"
   ]
  },
  {
   "cell_type": "code",
   "execution_count": 14,
   "metadata": {},
   "outputs": [
    {
     "name": "stdout",
     "output_type": "stream",
     "text": [
      "{1: 2, 3: 4, 5: 6, 7: 8}\n"
     ]
    }
   ],
   "source": [
    "liste = [[1, 2], [3,4], [5,6], [7,8]] \n",
    "\n",
    "dict_comprehension = { x[0] : x[1] for x in liste }\n",
    "print(dict_comprehension)"
   ]
  },
  {
   "cell_type": "markdown",
   "metadata": {},
   "source": [
    "### USING CONSTRUCTOR"
   ]
  },
  {
   "cell_type": "code",
   "execution_count": 3,
   "metadata": {},
   "outputs": [
    {
     "name": "stdout",
     "output_type": "stream",
     "text": [
      "{1: 2, 3: 4, 5: 6, 7: 8}\n"
     ]
    }
   ],
   "source": [
    "liste = [[1, 2], [3,4], [5,6], [7,8]] \n",
    "\n",
    "print(dict(liste))"
   ]
  },
  {
   "cell_type": "markdown",
   "metadata": {},
   "source": [
    "# Exo 2"
   ]
  },
  {
   "cell_type": "markdown",
   "metadata": {},
   "source": [
    "## à la mano"
   ]
  },
  {
   "cell_type": "code",
   "execution_count": 13,
   "metadata": {},
   "outputs": [
    {
     "name": "stdout",
     "output_type": "stream",
     "text": [
      "33\n",
      "{'L': 1, 'o': 26, 'r': 29, 'e': 58, 'm': 29, ' ': 99, 'i': 63, 'p': 16, 's': 46, 'u': 47, 'd': 16, 'l': 35, 't': 40, 'a': 44, ',': 12, 'c': 22, 'n': 28, 'g': 5, '.': 10, 'N': 1, 'q': 4, 'I': 1, 'f': 5, 'v': 10, 'V': 3, 'j': 1, 'D': 1, 'b': 4, 'A': 1, 'h': 1, 'S': 1, 'x': 1, 'P': 1}\n"
     ]
    }
   ],
   "source": [
    "texte = \"Lorem ipsum dolor sit amet, consectetur adipiscing elit. Nullam elementum metus a ligula tristique ullamcorper. In euismod, ipsum nec facilisis gravida, diam metus luctus quam, at volutpat erat mauris id ipsum. Vivamus ac elit non felis laoreet facilisis nec vitae purus. Vivamus tortor justo, lacinia a iaculis nec, elementum eu arcu. Donec imperdiet, nisi non pretium euismod, erat libero porttitor eros, a convallis lorem nisi sed nisi. Aenean risus dui, scelerisque vel faucibus id, finibus eget leo. Vivamus volutpat nulla ac ligula rutrum, ac vehicula mauris dapibus. Suspendisse tempor enim ut sapien tincidunt porta sit amet id ex. Pellentesque sodales.\"\n",
    "\n",
    "text_occur = {}\n",
    "for c in texte:\n",
    "    if c in text_occur:\n",
    "        text_occur[c]+=1\n",
    "    else:\n",
    "        text_occur[c]=1\n",
    "print(len(text_occur.keys()))\n",
    "print(text_occur)\n",
    "\n"
   ]
  },
  {
   "cell_type": "markdown",
   "metadata": {},
   "source": [
    "## 2.2) avec un defaultdict"
   ]
  },
  {
   "cell_type": "markdown",
   "metadata": {},
   "source": [
    "### 2.2.1) par caractère"
   ]
  },
  {
   "cell_type": "code",
   "execution_count": 18,
   "metadata": {},
   "outputs": [
    {
     "name": "stdout",
     "output_type": "stream",
     "text": [
      "defaultdict(<class 'int'>, {'L': 1, 'o': 26, 'r': 29, 'e': 58, 'm': 29, ' ': 99, 'i': 63, 'p': 16, 's': 46, 'u': 47, 'd': 16, 'l': 35, 't': 40, 'a': 44, ',': 12, 'c': 22, 'n': 28, 'g': 5, '.': 10, 'N': 1, 'q': 4, 'I': 1, 'f': 5, 'v': 10, 'V': 3, 'j': 1, 'D': 1, 'b': 4, 'A': 1, 'h': 1, 'S': 1, 'x': 1, 'P': 1})\n"
     ]
    }
   ],
   "source": [
    "from collections import defaultdict\n",
    "\n",
    "texte = \"Lorem ipsum dolor sit amet, consectetur adipiscing elit. Nullam elementum metus a ligula tristique ullamcorper. In euismod, ipsum nec facilisis gravida, diam metus luctus quam, at volutpat erat mauris id ipsum. Vivamus ac elit non felis laoreet facilisis nec vitae purus. Vivamus tortor justo, lacinia a iaculis nec, elementum eu arcu. Donec imperdiet, nisi non pretium euismod, erat libero porttitor eros, a convallis lorem nisi sed nisi. Aenean risus dui, scelerisque vel faucibus id, finibus eget leo. Vivamus volutpat nulla ac ligula rutrum, ac vehicula mauris dapibus. Suspendisse tempor enim ut sapien tincidunt porta sit amet id ex. Pellentesque sodales.\"\n",
    "\n",
    "dico = defaultdict(int)\n",
    "\n",
    "for c in texte:\n",
    "    dico[c]+=1\n",
    "\n",
    "print(dico)"
   ]
  },
  {
   "cell_type": "markdown",
   "metadata": {},
   "source": [
    "### 2.2.2) par mot"
   ]
  },
  {
   "cell_type": "code",
   "execution_count": 21,
   "metadata": {},
   "outputs": [
    {
     "name": "stdout",
     "output_type": "stream",
     "text": [
      "defaultdict(<class 'int'>, {'Lorem': 1, 'ipsum': 2, 'dolor': 1, 'sit': 2, 'amet,': 1, 'consectetur': 1, 'adipiscing': 1, 'elit.': 1, 'Nullam': 1, 'elementum': 2, 'metus': 2, 'a': 3, 'ligula': 2, 'tristique': 1, 'ullamcorper.': 1, 'In': 1, 'euismod,': 2, 'nec': 2, 'facilisis': 2, 'gravida,': 1, 'diam': 1, 'luctus': 1, 'quam,': 1, 'at': 1, 'volutpat': 2, 'erat': 2, 'mauris': 2, 'id': 2, 'ipsum.': 1, 'Vivamus': 3, 'ac': 3, 'elit': 1, 'non': 2, 'felis': 1, 'laoreet': 1, 'vitae': 1, 'purus.': 1, 'tortor': 1, 'justo,': 1, 'lacinia': 1, 'iaculis': 1, 'nec,': 1, 'eu': 1, 'arcu.': 1, 'Donec': 1, 'imperdiet,': 1, 'nisi': 2, 'pretium': 1, 'libero': 1, 'porttitor': 1, 'eros,': 1, 'convallis': 1, 'lorem': 1, 'sed': 1, 'nisi.': 1, 'Aenean': 1, 'risus': 1, 'dui,': 1, 'scelerisque': 1, 'vel': 1, 'faucibus': 1, 'id,': 1, 'finibus': 1, 'eget': 1, 'leo.': 1, 'nulla': 1, 'rutrum,': 1, 'vehicula': 1, 'dapibus.': 1, 'Suspendisse': 1, 'tempor': 1, 'enim': 1, 'ut': 1, 'sapien': 1, 'tincidunt': 1, 'porta': 1, 'amet': 1, 'ex.': 1, 'Pellentesque': 1, 'sodales.': 1})\n"
     ]
    }
   ],
   "source": [
    "from collections import defaultdict\n",
    "\n",
    "texte = \"Lorem ipsum dolor sit amet, consectetur adipiscing elit. Nullam elementum metus a ligula tristique ullamcorper. In euismod, ipsum nec facilisis gravida, diam metus luctus quam, at volutpat erat mauris id ipsum. Vivamus ac elit non felis laoreet facilisis nec vitae purus. Vivamus tortor justo, lacinia a iaculis nec, elementum eu arcu. Donec imperdiet, nisi non pretium euismod, erat libero porttitor eros, a convallis lorem nisi sed nisi. Aenean risus dui, scelerisque vel faucibus id, finibus eget leo. Vivamus volutpat nulla ac ligula rutrum, ac vehicula mauris dapibus. Suspendisse tempor enim ut sapien tincidunt porta sit amet id ex. Pellentesque sodales.\"\n",
    "texte_split = texte.split(' ')\n",
    "\n",
    "dico = defaultdict(int)\n",
    "\n",
    "for mot in texte_split:\n",
    "    dico[mot]+=1\n",
    "\n",
    "print(dico)"
   ]
  },
  {
   "cell_type": "markdown",
   "metadata": {},
   "source": [
    "## 2.3) avec un counter"
   ]
  },
  {
   "cell_type": "code",
   "execution_count": 30,
   "metadata": {},
   "outputs": [
    {
     "name": "stdout",
     "output_type": "stream",
     "text": [
      "[('a', 3), ('Vivamus', 3), ('ac', 3)]\n",
      "None\n"
     ]
    }
   ],
   "source": [
    "from collections import Counter\n",
    "\n",
    "texte = \"Lorem ipsum dolor sit amet, consectetur adipiscing elit. Nullam elementum metus a ligula tristique ullamcorper. In euismod, ipsum nec facilisis gravida, diam metus luctus quam, at volutpat erat mauris id ipsum. Vivamus ac elit non felis laoreet facilisis nec vitae purus. Vivamus tortor justo, lacinia a iaculis nec, elementum eu arcu. Donec imperdiet, nisi non pretium euismod, erat libero porttitor eros, a convallis lorem nisi sed nisi. Aenean risus dui, scelerisque vel faucibus id, finibus eget leo. Vivamus volutpat nulla ac ligula rutrum, ac vehicula mauris dapibus. Suspendisse tempor enim ut sapien tincidunt porta sit amet id ex. Pellentesque sodales.\"\n",
    "c = Counter(texte.split(' '))\n",
    "c2 = Counter(texte[:50].split(' '))\n",
    "\n",
    "print(c.most_common(3))\n",
    "print(c.subtract(c2))"
   ]
  },
  {
   "cell_type": "markdown",
   "metadata": {},
   "source": [
    "# Exo 3"
   ]
  },
  {
   "cell_type": "code",
   "execution_count": 2,
   "metadata": {},
   "outputs": [
    {
     "name": "stdout",
     "output_type": "stream",
     "text": [
      "{('GCT', 'GCC', 'GCA', 'GCG'): 'Ala', ('CGT', 'CGC', 'CGA', 'CGG', 'AGA', 'AGG'): 'Arg', ('AAT', 'AAC'): 'Asn', ('GAT', 'GAC'): 'Asp', ('TGT', 'TGC'): 'Cys', ('CAA', 'CAG'): 'Gln', ('GAA', 'GAG'): 'Glu', ('GGT', 'GGC', 'GGA', 'GGG'): 'Gly', ('CAT', 'CAC'): 'His', ('ATT', 'ATC', 'ATA'): 'Ile', ('CTT', 'CTC', 'CTA', 'CTG', 'TTA', 'TTG'): 'Leu', ('AAA', 'AAG'): 'Lys', 'ATG': 'Met', ('TTT', 'TTC'): 'Phe', ('CCT', 'CCC', 'CCA', 'CCG'): 'Pro', ('TCT', 'TCC', 'TCA', 'TCG', 'AGT', 'AGC'): 'Ser', ('ACT', 'ACC', 'ACA', 'ACG'): 'Thr', 'TGG': 'Trp', ('TAT', 'TAC'): 'Tyr', ('GTT', 'GTC', 'GTA', 'GTG'): 'Val', ('TAA', 'TGA', 'TAG'): 'STOP'}\n"
     ]
    }
   ],
   "source": [
    "dico = {\n",
    " \"Ala\":   (\"GCT\", \"GCC\", \"GCA\", \"GCG\"),\n",
    " \"Arg\":    (\"CGT\", \"CGC\", \"CGA\", \"CGG\", \"AGA\", \"AGG\"),\n",
    " \"Asn\":    (\"AAT\", \"AAC\"),\n",
    " \"Asp\":    (\"GAT\", \"GAC\"),\n",
    " \"Cys\":    (\"TGT\", \"TGC\"),\n",
    " \"Gln\":    (\"CAA\", \"CAG\"),\n",
    " \"Glu\":    (\"GAA\", \"GAG\"),\n",
    " \"Gly\":    (\"GGT\", \"GGC\", \"GGA\", \"GGG\"),\n",
    " \"His\":    (\"CAT\", \"CAC\"),\n",
    " \"Ile\":    (\"ATT\", \"ATC\", \"ATA\"),\n",
    " \"Leu\":    (\"CTT\", \"CTC\", \"CTA\", \"CTG\", \"TTA\", \"TTG\"),\n",
    " \"Lys\":    (\"AAA\", \"AAG\"),\n",
    " \"Met\":    (\"ATG\"),\n",
    " \"Phe\":    (\"TTT\", \"TTC\"),\n",
    " \"Pro\":    (\"CCT\", \"CCC\", \"CCA\", \"CCG\"),\n",
    " \"Ser\":    (\"TCT\", \"TCC\", \"TCA\", \"TCG\", \"AGT\", \"AGC\"),\n",
    " \"Thr\":    (\"ACT\", \"ACC\", \"ACA\", \"ACG\"),\n",
    " \"Trp\":    (\"TGG\"),\n",
    " \"Tyr\":    (\"TAT\", \"TAC\"),\n",
    " \"Val\":    (\"GTT\", \"GTC\", \"GTA\", \"GTG\"),\n",
    " \"STOP\":   (\"TAA\", \"TGA\", \"TAG\") \n",
    "}\n",
    "\n",
    "dico_inverse = { dico[i]:i for i in dico }\n",
    "print(dico_inverse)"
   ]
  },
  {
   "cell_type": "code",
   "execution_count": 4,
   "metadata": {},
   "outputs": [
    {
     "name": "stdout",
     "output_type": "stream",
     "text": [
      "{'GCT': 'Ala', 'GCC': 'Ala', 'GCA': 'Ala', 'GCG': 'Ala', 'CGT': 'Arg', 'CGC': 'Arg', 'CGA': 'Arg', 'CGG': 'Arg', 'AGA': 'Arg', 'AGG': 'Arg', 'AAT': 'Asn', 'AAC': 'Asn', 'GAT': 'Asp', 'GAC': 'Asp', 'TGT': 'Cys', 'TGC': 'Cys', 'CAA': 'Gln', 'CAG': 'Gln', 'GAA': 'Glu', 'GAG': 'Glu', 'GGT': 'Gly', 'GGC': 'Gly', 'GGA': 'Gly', 'GGG': 'Gly', 'CAT': 'His', 'CAC': 'His', 'ATT': 'Ile', 'ATC': 'Ile', 'ATA': 'Ile', 'CTT': 'Leu', 'CTC': 'Leu', 'CTA': 'Leu', 'CTG': 'Leu', 'TTA': 'Leu', 'TTG': 'Leu', 'AAA': 'Lys', 'AAG': 'Lys', 'A': 'Met', 'T': 'Trp', 'G': 'Trp', 'TTT': 'Phe', 'TTC': 'Phe', 'CCT': 'Pro', 'CCC': 'Pro', 'CCA': 'Pro', 'CCG': 'Pro', 'TCT': 'Ser', 'TCC': 'Ser', 'TCA': 'Ser', 'TCG': 'Ser', 'AGT': 'Ser', 'AGC': 'Ser', 'ACT': 'Thr', 'ACC': 'Thr', 'ACA': 'Thr', 'ACG': 'Thr', 'TAT': 'Tyr', 'TAC': 'Tyr', 'GTT': 'Val', 'GTC': 'Val', 'GTA': 'Val', 'GTG': 'Val', 'TAA': 'STOP', 'TGA': 'STOP', 'TAG': 'STOP'}\n"
     ]
    }
   ],
   "source": [
    "\n",
    "#à la main\n",
    "dico_extended = {}\n",
    "for tuples in dico_inverse:\n",
    "    val=dico_inverse[tuples]\n",
    "    for code in tuples:\n",
    "        dico_extended[code]=val\n",
    "print(dico_extended)\n"
   ]
  },
  {
   "cell_type": "code",
   "execution_count": 5,
   "metadata": {},
   "outputs": [
    {
     "name": "stdout",
     "output_type": "stream",
     "text": [
      "{'GCT': 'Ala', 'GCC': 'Ala', 'GCA': 'Ala', 'GCG': 'Ala', 'CGT': 'Arg', 'CGC': 'Arg', 'CGA': 'Arg', 'CGG': 'Arg', 'AGA': 'Arg', 'AGG': 'Arg', 'AAT': 'Asn', 'AAC': 'Asn', 'GAT': 'Asp', 'GAC': 'Asp', 'TGT': 'Cys', 'TGC': 'Cys', 'CAA': 'Gln', 'CAG': 'Gln', 'GAA': 'Glu', 'GAG': 'Glu', 'GGT': 'Gly', 'GGC': 'Gly', 'GGA': 'Gly', 'GGG': 'Gly', 'CAT': 'His', 'CAC': 'His', 'ATT': 'Ile', 'ATC': 'Ile', 'ATA': 'Ile', 'CTT': 'Leu', 'CTC': 'Leu', 'CTA': 'Leu', 'CTG': 'Leu', 'TTA': 'Leu', 'TTG': 'Leu', 'AAA': 'Lys', 'AAG': 'Lys', 'A': 'Met', 'T': 'Trp', 'G': 'Trp', 'TTT': 'Phe', 'TTC': 'Phe', 'CCT': 'Pro', 'CCC': 'Pro', 'CCA': 'Pro', 'CCG': 'Pro', 'TCT': 'Ser', 'TCC': 'Ser', 'TCA': 'Ser', 'TCG': 'Ser', 'AGT': 'Ser', 'AGC': 'Ser', 'ACT': 'Thr', 'ACC': 'Thr', 'ACA': 'Thr', 'ACG': 'Thr', 'TAT': 'Tyr', 'TAC': 'Tyr', 'GTT': 'Val', 'GTC': 'Val', 'GTA': 'Val', 'GTG': 'Val', 'TAA': 'STOP', 'TGA': 'STOP', 'TAG': 'STOP'}\n"
     ]
    }
   ],
   "source": [
    "#compréhension\n",
    "dico_extended_compre = { code:dico_inverse[tuples] for tuples in dico_inverse for code in tuples}\n",
    "        \n",
    "print(dico_extended_compre)"
   ]
  },
  {
   "cell_type": "code",
   "execution_count": 6,
   "metadata": {},
   "outputs": [
    {
     "name": "stdout",
     "output_type": "stream",
     "text": [
      "['GCC', 'GAG', 'TAA', 'CTA', 'GCC', 'AGC', 'TAT', 'GAC', 'ACG', 'ATC', 'CCG', 'GCT', 'AGG', 'AAA', 'GTG', 'AAC', 'CCG', 'CGG', 'AAG', 'TAT', 'ATT', 'GGT', 'ACC', 'TCA', 'CGG', 'TAG', 'GAG', 'ACG', 'GCG', 'GGA', 'TAA', 'TTC', 'TTG', 'TCG', 'CTG', 'TGT', 'GTG', 'CCA', 'TCG', 'TAC', 'ACG', 'AGA', 'CGG', 'GTC', 'CAC', 'TGA', 'GTA', 'AAG', 'CGA', 'GTA', 'TCA', 'CAC', 'AGA', 'CGA', 'AGG', 'TGA', 'CCT', 'CCC', 'CTT', 'GTA', 'GTC', 'AGT', 'AAT', 'CTT', 'TCC', 'TGA', 'ATC', 'TAA', 'TTA', 'CTG', 'TCA', 'TCG', 'ATT', 'GCA', 'AAA', 'CTT', 'TGC', 'AAA', 'AAA', 'ACA', 'TTT', 'GTA', 'GAC', 'AAC', 'CGC', 'TTA', 'CGT', 'GGC', 'GCT', 'TCC', 'TGC', 'ATT', 'AAA', 'CGA', 'TTC', 'CGG', 'TGC', 'ACG', 'GAA', 'CAA'] "
     ]
    }
   ],
   "source": [
    "# split en 3\n",
    "arn = 'GCCGAGTAACTAGCCAGCTATGACACGATCCCGGCTAGGAAAGTGAACCCGCGGAAGTATATTGGTACCTCACGGTAGGAGACGGCGGGATAATTCTTGTCGCTGTGTGTGCCATCGTACACGAGACGGGTCCACTGAGTAAAGCGAGTATCACACAGACGAAGGTGACCTCCCCTTGTAGTCAGTAATCTTTCCTGAATCTAATTACTGTCATCGATTGCAAAACTTTGCAAAAAAACATTTGTAGACAACCGCTTACGTGGCGCTTCCTGCATTAAACGATTCCGGTGCACGGAACAA'\n",
    "\n",
    "arn_array = [arn[indice:indice+3] for indice in range(len(arn)) if indice%3 == 0]\n",
    "\n",
    "print(arn_array, end=\" \")"
   ]
  },
  {
   "cell_type": "code",
   "execution_count": 7,
   "metadata": {},
   "outputs": [
    {
     "name": "stdout",
     "output_type": "stream",
     "text": [
      "Ala-Glu-STOP-Leu-Ala-Ser-Tyr-Asp-Thr-Ile-Pro-Ala-Arg-Lys-Val-Asn-Pro-Arg-Lys-Tyr-Ile-Gly-Thr-Ser-Arg-STOP-Glu-Thr-Ala-Gly-STOP-Phe-Leu-Ser-Leu-Cys-Val-Pro-Ser-Tyr-Thr-Arg-Arg-Val-His-STOP-Val-Lys-Arg-Val-Ser-His-Arg-Arg-Arg-STOP-Pro-Pro-Leu-Val-Val-Ser-Asn-Leu-Ser-STOP-Ile-STOP-Leu-Leu-Ser-Ser-Ile-Ala-Lys-Leu-Cys-Lys-Lys-Thr-Phe-Val-Asp-Asn-Arg-Leu-Arg-Gly-Ala-Ser-Cys-Ile-Lys-Arg-Phe-Arg-Cys-Thr-Glu-Gln\n"
     ]
    }
   ],
   "source": [
    "# jointure de strings\n",
    "acid_list = [ dico_extended_compre[code] for code in arn_array ]\n",
    "\n",
    "separator = '-'\n",
    "\n",
    "final_string = separator.join(acid_list)\n",
    "\n",
    "print(final_string)"
   ]
  }
 ],
 "metadata": {
  "kernelspec": {
   "display_name": "Python 3",
   "language": "python",
   "name": "python3"
  },
  "language_info": {
   "codemirror_mode": {
    "name": "ipython",
    "version": 3
   },
   "file_extension": ".py",
   "mimetype": "text/x-python",
   "name": "python",
   "nbconvert_exporter": "python",
   "pygments_lexer": "ipython3",
   "version": "3.8.5"
  }
 },
 "nbformat": 4,
 "nbformat_minor": 4
}

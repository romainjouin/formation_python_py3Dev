{
 "cells": [
  {
   "cell_type": "code",
   "execution_count": 1,
   "metadata": {},
   "outputs": [],
   "source": [
    "def push(message):\n",
    "    \"\"\"\n",
    "    Save current notebook and push whole current dir to origin/master\n",
    "    \n",
    "    Param:\n",
    "        message : str \n",
    "            Commit's message\n",
    "    \n",
    "    Return:\n",
    "        None\n",
    "    \"\"\"\n",
    "    assert(len(message.strip())>10)\n",
    "    import subprocess\n",
    "    from IPython.display import display, Javascript\n",
    "    \n",
    "    cmds = [  \"git add .\",\n",
    "              \"git commit -m \", \n",
    "              \"git push\"]\n",
    "    \n",
    "    # save current notebook\n",
    "    display(Javascript('IPython.notebook.save_checkpoint();'))\n",
    "    for cmd in cmds:\n",
    "        cmd = cmd.split()\n",
    "        if \"commit\" in cmd: \n",
    "            cmd.append( f\"'{message}'\") \n",
    "        print(\" \".join(cmd))\n",
    "        subprocess.check_output(cmd)\n",
    "    print(\"Fini.\")"
   ]
  },
  {
   "cell_type": "markdown",
   "metadata": {},
   "source": [
    "# Matplotlib"
   ]
  },
  {
   "cell_type": "code",
   "execution_count": 2,
   "metadata": {},
   "outputs": [],
   "source": [
    "from matplotlib import pyplot as plt"
   ]
  },
  {
   "cell_type": "code",
   "execution_count": 3,
   "metadata": {},
   "outputs": [],
   "source": [
    "x = range(10)\n",
    "y = range(10)"
   ]
  },
  {
   "cell_type": "markdown",
   "metadata": {},
   "source": [
    "## 1.1) par défaut, pyplot génère une ligne"
   ]
  },
  {
   "cell_type": "code",
   "execution_count": 4,
   "metadata": {},
   "outputs": [
    {
     "data": {
      "text/plain": [
       "[<matplotlib.lines.Line2D at 0x117dace50>]"
      ]
     },
     "execution_count": 4,
     "metadata": {},
     "output_type": "execute_result"
    },
    {
     "data": {
      "image/png": "[encoded data removed]",
      "text/plain": [
       "<Figure size 432x288 with 1 Axes>"
      ]
     },
     "metadata": {
      "needs_background": "light"
     },
     "output_type": "display_data"
    }
   ],
   "source": [
    "plt.plot(x,y, )"
   ]
  },
  {
   "cell_type": "markdown",
   "metadata": {},
   "source": [
    "## 1.2) on peut préciser qu'on veut des points avec les options de typologies d'affichage"
   ]
  },
  {
   "cell_type": "code",
   "execution_count": 5,
   "metadata": {},
   "outputs": [],
   "source": [
    "from matplotlib import pyplot as plt"
   ]
  },
  {
   "cell_type": "code",
   "execution_count": 6,
   "metadata": {},
   "outputs": [
    {
     "data": {
      "text/plain": [
       "Text(0, 0.5, 'legende des ordonnées')"
      ]
     },
     "execution_count": 6,
     "metadata": {},
     "output_type": "execute_result"
    },
    {
     "data": {
      "image/png": "[encoded data removed]",
      "text/plain": [
       "<Figure size 432x288 with 1 Axes>"
      ]
     },
     "metadata": {
      "needs_background": "light"
     },
     "output_type": "display_data"
    }
   ],
   "source": [
    "couleur        = {\"rouge\" : \"r\", \"vert\" : \"g\"}\n",
    "type_de_points = {\"cercle\" : \"o\", \"étoile\" : \"*\", \"croix\" : \"x\"}\n",
    "affichage      = \"%s%s\"%(couleur[\"rouge\"], type_de_points[\"croix\"])\n",
    "\n",
    "# crée une figure\n",
    "plt.plot(x,y, affichage)\n",
    "\n",
    "plt.xticks(rotation=45)\n",
    "\n",
    "# récupère l'axe\n",
    "ax = plt.gca()\n",
    "ax.set_title(\"coucou\")\n",
    "ax.set_xlabel(\"legende de x\")\n",
    "ax.set_ylabel(\"legende des ordonnées\")"
   ]
  },
  {
   "cell_type": "code",
   "execution_count": 7,
   "metadata": {},
   "outputs": [
    {
     "data": {
      "application/javascript": [
       "IPython.notebook.save_checkpoint();"
      ],
      "text/plain": [
       "<IPython.core.display.Javascript object>"
      ]
     },
     "metadata": {},
     "output_type": "display_data"
    },
    {
     "name": "stdout",
     "output_type": "stream",
     "text": [
      "git add .\n",
      "git commit -m 'première figure'\n",
      "git push\n",
      "Fini.\n"
     ]
    }
   ],
   "source": [
    "push(\"première figure\")"
   ]
  },
  {
   "cell_type": "markdown",
   "metadata": {},
   "source": [
    "# 2) dataviz avec pandas"
   ]
  },
  {
   "cell_type": "markdown",
   "metadata": {},
   "source": [
    "## 2.1) graphique en barre"
   ]
  },
  {
   "cell_type": "code",
   "execution_count": 8,
   "metadata": {},
   "outputs": [],
   "source": [
    "import pandas as pd"
   ]
  },
  {
   "cell_type": "code",
   "execution_count": 9,
   "metadata": {},
   "outputs": [],
   "source": [
    "url_vers_csv = \"https://raw.githubusercontent.com/romainjouin/formation_python/master/cyclistes.csv\"\n",
    "cyclistes = pd.read_csv(url_vers_csv)"
   ]
  },
  {
   "cell_type": "code",
   "execution_count": 10,
   "metadata": {},
   "outputs": [
    {
     "data": {
      "text/plain": [
       "est_adulte\n",
       "False    16.627451\n",
       "True     50.045311\n",
       "Name: age, dtype: float64"
      ]
     },
     "execution_count": 10,
     "metadata": {},
     "output_type": "execute_result"
    }
   ],
   "source": [
    "# ajout d'une colonne binaire\n",
    "cyclistes[\"est_adulte\"] =  18 < cyclistes[\"age\"] \n",
    "\n",
    "# calcul sur un group by\n",
    "age_moyen = cyclistes.groupby(\"est_adulte\")[\"age\"].mean()\n",
    "age_moyen"
   ]
  },
  {
   "cell_type": "code",
   "execution_count": 11,
   "metadata": {},
   "outputs": [
    {
     "data": {
      "text/plain": [
       "Text(0, 0.5, 'Age moyen de la population')"
      ]
     },
     "execution_count": 11,
     "metadata": {},
     "output_type": "execute_result"
    },
    {
     "data": {
      "image/png": "[encoded data removed]",
      "text/plain": [
       "<Figure size 432x288 with 1 Axes>"
      ]
     },
     "metadata": {
      "needs_background": "light"
     },
     "output_type": "display_data"
    }
   ],
   "source": [
    "age_moyen.plot.bar(title=\"Age moyen\") # j'utilise pandas pour faire la figure\n",
    "plt.xticks(rotation=45)               # j'utilise matplotlib pour customiser la figure\n",
    "\n",
    "# utilisation des axes de matplotlib\n",
    "ax = plt.gca() # gca \"stand for\" : Get Current Axe\n",
    "ax.set_xlabel(\"La personne est-elle un adulte\")\n",
    "ax.set_ylabel(\"Age moyen de la population\")"
   ]
  },
  {
   "cell_type": "code",
   "execution_count": null,
   "metadata": {},
   "outputs": [],
   "source": [
    "push(\"pour suivre\")"
   ]
  },
  {
   "cell_type": "code",
   "execution_count": null,
   "metadata": {},
   "outputs": [],
   "source": []
  }
 ],
 "metadata": {
  "kernelspec": {
   "display_name": "Python 3",
   "language": "python",
   "name": "python3"
  },
  "language_info": {
   "codemirror_mode": {
    "name": "ipython",
    "version": 3
   },
   "file_extension": ".py",
   "mimetype": "text/x-python",
   "name": "python",
   "nbconvert_exporter": "python",
   "pygments_lexer": "ipython3",
   "version": "3.8.5"
  }
 },
 "nbformat": 4,
 "nbformat_minor": 4
}

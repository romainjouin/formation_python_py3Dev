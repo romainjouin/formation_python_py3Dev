{
 "cells": [
  {
   "cell_type": "markdown",
   "metadata": {},
   "source": [
    "# -1) Fonctions personnelles"
   ]
  },
  {
   "cell_type": "code",
   "execution_count": 1,
   "metadata": {},
   "outputs": [],
   "source": [
    "def push(message):\n",
    "    \"\"\"\n",
    "    Save current notebook and push whole current dir to origin/master\n",
    "    \n",
    "    Param:\n",
    "        message : str \n",
    "            Commit's message\n",
    "    \n",
    "    Return:\n",
    "        None\n",
    "    \"\"\"\n",
    "    assert(len(message.strip())>10)\n",
    "    import subprocess\n",
    "    from IPython.display import display, Javascript\n",
    "    \n",
    "    cmds = [  \"git add .\",\n",
    "              \"git commit -m \", \n",
    "              \"git push\"]\n",
    "    \n",
    "    # save current notebook\n",
    "    display(Javascript('IPython.notebook.save_checkpoint();'))\n",
    "    for cmd in cmds:\n",
    "        cmd = cmd.split()\n",
    "        if \"commit\" in cmd: \n",
    "            cmd.append( f\"'{message}'\") \n",
    "        print(\" \".join(cmd))\n",
    "        subprocess.check_output(cmd)\n",
    "    print(\"Fini.\")"
   ]
  },
  {
   "cell_type": "markdown",
   "metadata": {},
   "source": [
    "# 0) Fonctionnement de l'IDE\n",
    "\n",
    "## Fonctionnement des raccourcis claviers : \n",
    "Exécuter une cellule                   : MAJ + ENTER  \n",
    "Changer le type de cellule en markdown : ESC + M  \n",
    "\n",
    "### manipulation des cellules\n",
    "Supprimer une cellule                  : ESC + DD  \n",
    "Ajouter une cellule en dessous         : ESC + B  \n",
    "Sélectionner plusieurs cellules        : MAJ + flèche du haut + flèche du bas\n",
    "\n",
    "### Accès à la documentation \n",
    "Docstring : MAJ + TAB (après la parenthèse de la fonction) => une fois, deux fois, trois fois = 3 niveaux différents  \n",
    "Lister les fonctions : commencer un mot + TAB\n",
    "\n",
    "[Convention de code : PEP 8](https://www.python.org/dev/peps/pep-0008/)"
   ]
  },
  {
   "cell_type": "markdown",
   "metadata": {},
   "source": [
    "# 1) importance des tabulations : "
   ]
  },
  {
   "cell_type": "markdown",
   "metadata": {},
   "source": [
    "## 1.1) créer une boucle"
   ]
  },
  {
   "cell_type": "code",
   "execution_count": 2,
   "metadata": {},
   "outputs": [
    {
     "name": "stdout",
     "output_type": "stream",
     "text": [
      "hello\n",
      "world\n",
      "!\n"
     ]
    }
   ],
   "source": [
    "for mot in [\"hello\", \"world\", \"!\"]:\n",
    "    print(mot)                      # Ici la boucle est déterminée par la tabulation "
   ]
  },
  {
   "cell_type": "markdown",
   "metadata": {},
   "source": [
    "## 1.2) créer une fonction"
   ]
  },
  {
   "cell_type": "code",
   "execution_count": 3,
   "metadata": {},
   "outputs": [
    {
     "name": "stdout",
     "output_type": "stream",
     "text": [
      "81\n"
     ]
    }
   ],
   "source": [
    "def au_carre(x):\n",
    "    return x*x\n",
    "\n",
    "print(au_carre(9))"
   ]
  },
  {
   "cell_type": "code",
   "execution_count": 4,
   "metadata": {},
   "outputs": [],
   "source": [
    "def auCarre(x):\n",
    "    return x*x"
   ]
  },
  {
   "cell_type": "code",
   "execution_count": 5,
   "metadata": {},
   "outputs": [],
   "source": [
    "def auCarré(x):\n",
    "    return x*x"
   ]
  },
  {
   "cell_type": "code",
   "execution_count": 6,
   "metadata": {},
   "outputs": [
    {
     "data": {
      "text/plain": [
       "81"
      ]
     },
     "execution_count": 6,
     "metadata": {},
     "output_type": "execute_result"
    }
   ],
   "source": [
    "auCarré(9)"
   ]
  },
  {
   "cell_type": "markdown",
   "metadata": {},
   "source": [
    "# 2) scopes"
   ]
  },
  {
   "cell_type": "markdown",
   "metadata": {},
   "source": [
    "# 2.1) local"
   ]
  },
  {
   "cell_type": "code",
   "execution_count": 7,
   "metadata": {},
   "outputs": [
    {
     "name": "stdout",
     "output_type": "stream",
     "text": [
      "3\n"
     ]
    }
   ],
   "source": [
    "def test_de_scope():\n",
    "    x=3 # le scope local prend la main sur le scope global\n",
    "    print(x)\n",
    "x = 5 # x est déclaréée dans le scope global    \n",
    "test_de_scope()"
   ]
  },
  {
   "cell_type": "markdown",
   "metadata": {},
   "source": [
    "## 2.2) accès au scope global"
   ]
  },
  {
   "cell_type": "code",
   "execution_count": 8,
   "metadata": {},
   "outputs": [
    {
     "name": "stdout",
     "output_type": "stream",
     "text": [
      "5\n"
     ]
    }
   ],
   "source": [
    "def test_de_scope():\n",
    "    print(x) # le x n'est pas déclaré au niveau local, donc on va le chercher au niveau global\n",
    "x = 5 # x est déclaréée dans le scope global    \n",
    "test_de_scope()"
   ]
  },
  {
   "cell_type": "markdown",
   "metadata": {},
   "source": [
    "## 2.3) définition depuis une fonction d'une variable ensuite contenue dans le scope global"
   ]
  },
  {
   "cell_type": "code",
   "execution_count": 9,
   "metadata": {},
   "outputs": [
    {
     "name": "stdout",
     "output_type": "stream",
     "text": [
      "3\n",
      "3\n"
     ]
    }
   ],
   "source": [
    "def test_de_scope():\n",
    "    global x # le x sera ensuite accessible au niveau global\n",
    "    x = 3\n",
    "    print(x) \n",
    "test_de_scope()\n",
    "print(x)"
   ]
  },
  {
   "cell_type": "markdown",
   "metadata": {},
   "source": [
    "# 3) Exécuter des commandes systèmes à travers jupyter \n",
    "## Utiliser le point d'exclamation\n",
    "! ls "
   ]
  },
  {
   "cell_type": "code",
   "execution_count": 10,
   "metadata": {},
   "outputs": [
    {
     "name": "stdout",
     "output_type": "stream",
     "text": [
      "README.md                        romain_notebook_1.ipynb\r\n",
      "notebook_1_bases_de_python.ipynb\r\n"
     ]
    }
   ],
   "source": [
    "!ls"
   ]
  },
  {
   "cell_type": "code",
   "execution_count": 11,
   "metadata": {},
   "outputs": [
    {
     "name": "stdout",
     "output_type": "stream",
     "text": [
      "total 64\r\n",
      "-rw-r--r--  1 romain  staff    26B Apr 26 10:40 README.md\r\n",
      "-rw-r--r--  1 romain  staff    13K Apr 26 10:40 notebook_1_bases_de_python.ipynb\r\n",
      "-rw-r--r--  1 romain  staff   9.8K Apr 26 12:12 romain_notebook_1.ipynb\r\n"
     ]
    }
   ],
   "source": [
    "!ls -lh"
   ]
  },
  {
   "cell_type": "code",
   "execution_count": 12,
   "metadata": {},
   "outputs": [
    {
     "name": "stdout",
     "output_type": "stream",
     "text": [
      "On branch main\r\n",
      "Your branch is up to date with 'origin/main'.\r\n",
      "\r\n",
      "Changes not staged for commit:\r\n",
      "  (use \"git add <file>...\" to update what will be committed)\r\n",
      "  (use \"git checkout -- <file>...\" to discard changes in working directory)\r\n",
      "\r\n",
      "\t\u001b[31mmodified:   .ipynb_checkpoints/romain_notebook_1-checkpoint.ipynb\u001b[m\r\n",
      "\t\u001b[31mmodified:   romain_notebook_1.ipynb\u001b[m\r\n",
      "\r\n",
      "no changes added to commit (use \"git add\" and/or \"git commit -a\")\r\n"
     ]
    }
   ],
   "source": [
    "!git status"
   ]
  },
  {
   "cell_type": "code",
   "execution_count": 14,
   "metadata": {},
   "outputs": [
    {
     "data": {
      "application/javascript": [
       "IPython.notebook.save_checkpoint();"
      ],
      "text/plain": [
       "<IPython.core.display.Javascript object>"
      ]
     },
     "metadata": {},
     "output_type": "display_data"
    },
    {
     "name": "stdout",
     "output_type": "stream",
     "text": [
      "git add .\n",
      "git commit -m 'just to update'\n",
      "git push\n",
      "Fini.\n"
     ]
    }
   ],
   "source": [
    "push(\"just to update\")"
   ]
  },
  {
   "cell_type": "markdown",
   "metadata": {},
   "source": [
    "# 4) Attention : il est possible d'écraser un mot \"builtin\" du langage python, par une variable\n"
   ]
  },
  {
   "cell_type": "markdown",
   "metadata": {},
   "source": [
    "## 4.1) exemple : écrasement de la fonction \"print\" par une string"
   ]
  },
  {
   "cell_type": "markdown",
   "metadata": {},
   "source": [
    "## Tip : raccourci clavier pour sélectionner des cellules et les fussioner => MAJ + M"
   ]
  },
  {
   "cell_type": "code",
   "execution_count": 15,
   "metadata": {},
   "outputs": [
    {
     "data": {
      "text/plain": [
       "'\\nprint = \"coucou\"\\n\\nprint\\n\\nprint(\"hello\")\\n'"
      ]
     },
     "execution_count": 15,
     "metadata": {},
     "output_type": "execute_result"
    }
   ],
   "source": [
    "\"\"\"\n",
    "print = \"coucou\"\n",
    "\n",
    "print\n",
    "\n",
    "print(\"hello\")\n",
    "\"\"\""
   ]
  },
  {
   "cell_type": "markdown",
   "metadata": {},
   "source": [
    "## 4.2) pour récupérer la fonction print il faut reloader le système => cf le bouton \"redémarrer le noyau\" (impossible dans un script !)"
   ]
  },
  {
   "cell_type": "markdown",
   "metadata": {},
   "source": [
    "# 5) Triples guillemets\n",
    "## 5.1) les commentaires peuvent être :\n",
    "- sur une seule ligne => #\n",
    "- sur plusieurs lignes => \"\"\" \"\"\" (triple guillemets) \n",
    "\n",
    "les tripes guillements permettent aussi de faire de la mise en forme pour un print"
   ]
  },
  {
   "cell_type": "code",
   "execution_count": 16,
   "metadata": {},
   "outputs": [],
   "source": [
    "# un commentaire"
   ]
  },
  {
   "cell_type": "code",
   "execution_count": 19,
   "metadata": {},
   "outputs": [],
   "source": [
    "texte_a_afficher = \"\"\"\n",
    "    Ce texte garde la mise en page \n",
    "        \\-> (notamment les tabulations)\n",
    "    Car il est entre triple guillemets\n",
    "\"\"\""
   ]
  },
  {
   "cell_type": "code",
   "execution_count": 20,
   "metadata": {},
   "outputs": [
    {
     "name": "stdout",
     "output_type": "stream",
     "text": [
      "\n",
      "    Ce texte garde la mise en page \n",
      "        \\-> (notamment les tabulations)\n",
      "    Car il est entre triple guillemets\n",
      "\n"
     ]
    }
   ],
   "source": [
    "print(texte_a_afficher)"
   ]
  },
  {
   "cell_type": "markdown",
   "metadata": {},
   "source": [
    "## 5.2) les triples guillements sont utiles pour documenter les fonctions"
   ]
  },
  {
   "cell_type": "code",
   "execution_count": 21,
   "metadata": {},
   "outputs": [],
   "source": [
    "def demonstration_de_documentation(x,y):\n",
    "    \"\"\"\n",
    "    La convention veut une seule phrase pour expliquer ce que fait la fonction, suivie d'une ligne vide.\n",
    "    \n",
    "    Plus de descriptions pour détailler le code / l'algo.\n",
    "    Cette descriptions qui peut être sur plusieurs lignes\n",
    "    \n",
    "    Parameters:\n",
    "        x : string\n",
    "        y: string\n",
    "    \n",
    "    Return : \n",
    "        def de la valeur de retour\n",
    "        \n",
    "    \"\"\"\n",
    "    return \"rien\""
   ]
  },
  {
   "cell_type": "code",
   "execution_count": null,
   "metadata": {},
   "outputs": [],
   "source": [
    "demonstration_de_documentation()"
   ]
  },
  {
   "cell_type": "markdown",
   "metadata": {},
   "source": [
    "# 6) pointeurs"
   ]
  },
  {
   "cell_type": "markdown",
   "metadata": {},
   "source": [
    "## 6.1) les pointeurs référencient la même position mémoire"
   ]
  },
  {
   "cell_type": "code",
   "execution_count": 22,
   "metadata": {},
   "outputs": [],
   "source": [
    "x = [\"Hello\", \"world\"]"
   ]
  },
  {
   "cell_type": "code",
   "execution_count": 25,
   "metadata": {},
   "outputs": [],
   "source": [
    "y = x"
   ]
  },
  {
   "cell_type": "code",
   "execution_count": 26,
   "metadata": {},
   "outputs": [],
   "source": [
    "y[0] = \"coucou\""
   ]
  },
  {
   "cell_type": "code",
   "execution_count": 27,
   "metadata": {},
   "outputs": [
    {
     "data": {
      "text/plain": [
       "['coucou', 'world']"
      ]
     },
     "execution_count": 27,
     "metadata": {},
     "output_type": "execute_result"
    }
   ],
   "source": [
    "x"
   ]
  },
  {
   "cell_type": "code",
   "execution_count": 28,
   "metadata": {},
   "outputs": [
    {
     "data": {
      "text/plain": [
       "['coucou', 'world']"
      ]
     },
     "execution_count": 28,
     "metadata": {},
     "output_type": "execute_result"
    }
   ],
   "source": [
    "y"
   ]
  },
  {
   "cell_type": "markdown",
   "metadata": {},
   "source": [
    "## 6.2) copie de listes => fonction \"list\""
   ]
  },
  {
   "cell_type": "code",
   "execution_count": 35,
   "metadata": {},
   "outputs": [],
   "source": [
    "x = [\"Hello\", \"world\"]\n",
    "y = list(x) # copie en mémoire, indépendante"
   ]
  },
  {
   "cell_type": "code",
   "execution_count": 30,
   "metadata": {},
   "outputs": [
    {
     "data": {
      "text/plain": [
       "['coucou', 'world']"
      ]
     },
     "execution_count": 30,
     "metadata": {},
     "output_type": "execute_result"
    }
   ],
   "source": [
    "y[0] = \"coucou\"\n",
    "y"
   ]
  },
  {
   "cell_type": "code",
   "execution_count": 31,
   "metadata": {},
   "outputs": [
    {
     "data": {
      "text/plain": [
       "['Hello', 'world']"
      ]
     },
     "execution_count": 31,
     "metadata": {},
     "output_type": "execute_result"
    }
   ],
   "source": [
    "x"
   ]
  },
  {
   "cell_type": "markdown",
   "metadata": {},
   "source": [
    "## 6.3) les chaînes de caractères sont immuables"
   ]
  },
  {
   "cell_type": "code",
   "execution_count": 32,
   "metadata": {},
   "outputs": [
    {
     "ename": "TypeError",
     "evalue": "'str' object does not support item assignment",
     "output_type": "error",
     "traceback": [
      "\u001b[0;31m---------------------------------------------------------------------------\u001b[0m",
      "\u001b[0;31mTypeError\u001b[0m                                 Traceback (most recent call last)",
      "\u001b[0;32m<ipython-input-32-289173f26585>\u001b[0m in \u001b[0;36m<module>\u001b[0;34m\u001b[0m\n\u001b[1;32m      1\u001b[0m \u001b[0mx\u001b[0m \u001b[0;34m=\u001b[0m \u001b[0;34m\"hello\"\u001b[0m\u001b[0;34m\u001b[0m\u001b[0;34m\u001b[0m\u001b[0m\n\u001b[0;32m----> 2\u001b[0;31m \u001b[0mx\u001b[0m\u001b[0;34m[\u001b[0m\u001b[0;36m0\u001b[0m\u001b[0;34m]\u001b[0m \u001b[0;34m=\u001b[0m \u001b[0;34m\"H\"\u001b[0m\u001b[0;34m\u001b[0m\u001b[0;34m\u001b[0m\u001b[0m\n\u001b[0m",
      "\u001b[0;31mTypeError\u001b[0m: 'str' object does not support item assignment"
     ]
    }
   ],
   "source": [
    "x = \"hello\"\n",
    "x[0] = \"H\""
   ]
  },
  {
   "cell_type": "code",
   "execution_count": 33,
   "metadata": {},
   "outputs": [
    {
     "data": {
      "text/plain": [
       "'Hello'"
      ]
     },
     "execution_count": 33,
     "metadata": {},
     "output_type": "execute_result"
    }
   ],
   "source": [
    "x.capitalize()"
   ]
  },
  {
   "cell_type": "markdown",
   "metadata": {},
   "source": [
    "# 7) les classes"
   ]
  },
  {
   "cell_type": "markdown",
   "metadata": {},
   "source": [
    "## 7.1) déclaration de classe"
   ]
  },
  {
   "cell_type": "code",
   "execution_count": 59,
   "metadata": {},
   "outputs": [],
   "source": [
    "class livre():                    # déclaration de classe\n",
    "    def __init__(self, autheur):  # constructeur de la classe => __init__ (en python)\n",
    "        self.autheur = autheur    # les attributs sont créés à la volée\n",
    "        \n",
    "    def __str__(self):            # méthode appelée lors d'un affichage de l'instance\n",
    "        return \"L'auteur est \" + self.autheur\n",
    "    "
   ]
  },
  {
   "cell_type": "code",
   "execution_count": 60,
   "metadata": {},
   "outputs": [],
   "source": [
    "instance = livre(\"tolstoi\")"
   ]
  },
  {
   "cell_type": "code",
   "execution_count": 61,
   "metadata": {},
   "outputs": [
    {
     "data": {
      "text/plain": [
       "'tolstoi'"
      ]
     },
     "execution_count": 61,
     "metadata": {},
     "output_type": "execute_result"
    }
   ],
   "source": [
    "instance.autheur"
   ]
  },
  {
   "cell_type": "code",
   "execution_count": 62,
   "metadata": {},
   "outputs": [
    {
     "name": "stdout",
     "output_type": "stream",
     "text": [
      "L'auteur est tolstoi\n"
     ]
    }
   ],
   "source": [
    "print(instance)"
   ]
  },
  {
   "cell_type": "markdown",
   "metadata": {},
   "source": [
    "## 7.2) déclaration d'un attribut non défini dans la classe, sur une instance"
   ]
  },
  {
   "cell_type": "code",
   "execution_count": 65,
   "metadata": {},
   "outputs": [],
   "source": [
    "instance.nouvel_attribut = \"impossible en java\""
   ]
  },
  {
   "cell_type": "code",
   "execution_count": 66,
   "metadata": {},
   "outputs": [
    {
     "data": {
      "text/plain": [
       "'impossible en java'"
      ]
     },
     "execution_count": 66,
     "metadata": {},
     "output_type": "execute_result"
    }
   ],
   "source": [
    "instance.nouvel_attribut"
   ]
  },
  {
   "cell_type": "markdown",
   "metadata": {},
   "source": [
    "## 7.3) la méthode \\_\\_dict__ permet de connaître les attributs d'une instance"
   ]
  },
  {
   "cell_type": "code",
   "execution_count": 67,
   "metadata": {},
   "outputs": [
    {
     "data": {
      "text/plain": [
       "{'autheur': 'tolstoi',\n",
       " 'date_de_parution': '1900',\n",
       " 'nouvel_attribut': 'impossible en java'}"
      ]
     },
     "execution_count": 67,
     "metadata": {},
     "output_type": "execute_result"
    }
   ],
   "source": [
    "instance.__dict__"
   ]
  },
  {
   "cell_type": "markdown",
   "metadata": {},
   "source": [
    "## 7.4) Il n'y a pas de Getter / setter => il suffit de créer les attributs à la volée"
   ]
  },
  {
   "cell_type": "code",
   "execution_count": 68,
   "metadata": {},
   "outputs": [],
   "source": [
    "instance.date_de_parution = \"1900\""
   ]
  },
  {
   "cell_type": "code",
   "execution_count": 69,
   "metadata": {},
   "outputs": [
    {
     "data": {
      "text/plain": [
       "{'autheur': 'tolstoi',\n",
       " 'date_de_parution': '1900',\n",
       " 'nouvel_attribut': 'impossible en java'}"
      ]
     },
     "execution_count": 69,
     "metadata": {},
     "output_type": "execute_result"
    }
   ],
   "source": [
    "instance.__dict__"
   ]
  },
  {
   "cell_type": "markdown",
   "metadata": {},
   "source": [
    "# 8) liste / tuples / set"
   ]
  },
  {
   "cell_type": "code",
   "execution_count": 78,
   "metadata": {},
   "outputs": [],
   "source": [
    "liste = [\"hello\", \"world\"] # modifiable"
   ]
  },
  {
   "cell_type": "code",
   "execution_count": 76,
   "metadata": {},
   "outputs": [],
   "source": [
    "un_tuple =  (\"hello\", \"world\", \"hello\") # non modifiable"
   ]
  },
  {
   "cell_type": "code",
   "execution_count": 77,
   "metadata": {},
   "outputs": [
    {
     "data": {
      "text/plain": [
       "{'hello', 'world'}"
      ]
     },
     "execution_count": 77,
     "metadata": {},
     "output_type": "execute_result"
    }
   ],
   "source": [
    "un_set = set(un_tuple)  # que des éléments unique\n",
    "un_set"
   ]
  },
  {
   "cell_type": "code",
   "execution_count": 80,
   "metadata": {},
   "outputs": [],
   "source": [
    "liste.append(\"!\") "
   ]
  },
  {
   "cell_type": "code",
   "execution_count": 81,
   "metadata": {},
   "outputs": [
    {
     "data": {
      "text/plain": [
       "['hello', 'world', '!']"
      ]
     },
     "execution_count": 81,
     "metadata": {},
     "output_type": "execute_result"
    }
   ],
   "source": [
    "liste"
   ]
  },
  {
   "cell_type": "code",
   "execution_count": 82,
   "metadata": {},
   "outputs": [
    {
     "name": "stdout",
     "output_type": "stream",
     "text": [
      "la liste est non vide\n"
     ]
    }
   ],
   "source": [
    "if liste:\n",
    "    print(\"la liste est non vide\")"
   ]
  },
  {
   "cell_type": "code",
   "execution_count": 85,
   "metadata": {},
   "outputs": [
    {
     "name": "stdout",
     "output_type": "stream",
     "text": [
      "la liste est vide\n"
     ]
    }
   ],
   "source": [
    "liste_vide = []\n",
    "\n",
    "if liste_vide: # une liste vide est considérée comme un False, comme un set ou un tuple vide\n",
    "    print(\"la liste est non vide\")\n",
    "else:\n",
    "    print(\"la liste est vide\") "
   ]
  },
  {
   "cell_type": "markdown",
   "metadata": {},
   "source": [
    "# 9) les conditions (if) sont aussi liées à l'indentation"
   ]
  },
  {
   "cell_type": "code",
   "execution_count": 89,
   "metadata": {},
   "outputs": [
    {
     "name": "stdout",
     "output_type": "stream",
     "text": [
      "fonction indentée\n",
      "ce qui s'exécute si le test de if passe pas\n"
     ]
    }
   ],
   "source": [
    "liste_vide = []\n",
    "\n",
    "if liste_vide: \n",
    "    print(\"fonction indentée\")\n",
    "    print(\"ce qui s'exécute si le test de if passe\")    \n",
    "else:\n",
    "    print(\"fonction indentée\")    \n",
    "    print(\"ce qui s'exécute si le test de if passe pas\")        "
   ]
  },
  {
   "cell_type": "markdown",
   "metadata": {},
   "source": [
    "# 10) f-string"
   ]
  },
  {
   "cell_type": "code",
   "execution_count": 90,
   "metadata": {},
   "outputs": [],
   "source": [
    "prenom = \"romain\"\n",
    "nom = \"jouin\""
   ]
  },
  {
   "cell_type": "code",
   "execution_count": 91,
   "metadata": {},
   "outputs": [
    {
     "name": "stdout",
     "output_type": "stream",
     "text": [
      " Bonjour romain jouin !\n"
     ]
    }
   ],
   "source": [
    "f_string = f\" Bonjour {prenom} {nom} !\"\n",
    "print(f_string)"
   ]
  },
  {
   "cell_type": "markdown",
   "metadata": {},
   "source": [
    "# 11) fonction input pour demander de l'info à l'utilisateur"
   ]
  },
  {
   "cell_type": "code",
   "execution_count": 94,
   "metadata": {},
   "outputs": [
    {
     "name": "stdout",
     "output_type": "stream",
     "text": [
      "Quel est votre prénom ?romain\n",
      "Quel est votre nom ?jouin\n",
      " Bonjour romain jouin !\n"
     ]
    }
   ],
   "source": [
    "prenom = input(\"Quel est votre prénom ?\")\n",
    "nom = input(\"Quel est votre nom ?\")\n",
    "f_string = f\" Bonjour {prenom} {nom} !\"\n",
    "print(f_string)"
   ]
  },
  {
   "cell_type": "code",
   "execution_count": 97,
   "metadata": {},
   "outputs": [
    {
     "name": "stdout",
     "output_type": "stream",
     "text": [
      "\n",
      "\n",
      " Bonjour romain jouin !\n"
     ]
    }
   ],
   "source": [
    "section = \"\\n\"*2\n",
    "print(f\"{section} Bonjour {prenom} {nom} !\")"
   ]
  },
  {
   "cell_type": "code",
   "execution_count": null,
   "metadata": {},
   "outputs": [],
   "source": [
    "push(\"pour suivre\")"
   ]
  },
  {
   "cell_type": "code",
   "execution_count": null,
   "metadata": {},
   "outputs": [],
   "source": []
  }
 ],
 "metadata": {
  "kernelspec": {
   "display_name": "Python 3",
   "language": "python",
   "name": "python3"
  },
  "language_info": {
   "codemirror_mode": {
    "name": "ipython",
    "version": 3
   },
   "file_extension": ".py",
   "mimetype": "text/x-python",
   "name": "python",
   "nbconvert_exporter": "python",
   "pygments_lexer": "ipython3",
   "version": "3.8.5"
  }
 },
 "nbformat": 4,
 "nbformat_minor": 4
}

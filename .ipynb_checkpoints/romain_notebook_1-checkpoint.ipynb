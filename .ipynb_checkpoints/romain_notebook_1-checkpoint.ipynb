{
 "cells": [
  {
   "cell_type": "markdown",
   "metadata": {},
   "source": [
    "# -1) Fonctions personnelles"
   ]
  },
  {
   "cell_type": "code",
   "execution_count": 1,
   "metadata": {},
   "outputs": [],
   "source": [
    "def push(message):\n",
    "    \"\"\"\n",
    "    Save current notebook and push whole current dir to origin/master\n",
    "    \n",
    "    Param:\n",
    "        message : str \n",
    "            Commit's message\n",
    "    \n",
    "    Return:\n",
    "        None\n",
    "    \"\"\"\n",
    "    assert(len(message.strip())>10)\n",
    "    import subprocess\n",
    "    from IPython.display import display, Javascript\n",
    "    \n",
    "    cmds = [  \"git add .\",\n",
    "              \"git commit -m \", \n",
    "              \"git push\"]\n",
    "    \n",
    "    # save current notebook\n",
    "    display(Javascript('IPython.notebook.save_checkpoint();'))\n",
    "    for cmd in cmds:\n",
    "        cmd = cmd.split()\n",
    "        if \"commit\" in cmd: \n",
    "            cmd.append( f\"'{message}'\") \n",
    "        print(\" \".join(cmd))\n",
    "        subprocess.check_output(cmd)\n",
    "    print(\"Fini.\")"
   ]
  },
  {
   "cell_type": "markdown",
   "metadata": {},
   "source": [
    "# 0) Fonctionnement de l'IDE\n",
    "\n",
    "## Fonctionnement des raccourcis claviers : \n",
    "Exécuter une cellule                   : MAJ + ENTER  \n",
    "Changer le type de cellule en markdown : ESC + M  \n",
    "\n",
    "### manipulation des cellules\n",
    "Supprimer une cellule                  : ESC + DD  \n",
    "Ajouter une cellule en dessous         : ESC + B  \n",
    "Sélectionner plusieurs cellules        : MAJ + flèche du haut + flèche du bas\n",
    "\n",
    "### Accès à la documentation \n",
    "Docstring : MAJ + TAB (après la parenthèse de la fonction) => une fois, deux fois, trois fois = 3 niveaux différents  \n",
    "Lister les fonctions : commencer un mot + TAB\n",
    "\n",
    "[Convention de code : PEP 8](https://www.python.org/dev/peps/pep-0008/)"
   ]
  },
  {
   "cell_type": "markdown",
   "metadata": {},
   "source": [
    "# 1) importance des tabulations : "
   ]
  },
  {
   "cell_type": "markdown",
   "metadata": {},
   "source": [
    "## 1.1) créer une boucle"
   ]
  },
  {
   "cell_type": "code",
   "execution_count": 2,
   "metadata": {},
   "outputs": [
    {
     "name": "stdout",
     "output_type": "stream",
     "text": [
      "hello\n",
      "world\n",
      "!\n"
     ]
    }
   ],
   "source": [
    "for mot in [\"hello\", \"world\", \"!\"]:\n",
    "    print(mot)                      # Ici la boucle est déterminée par la tabulation "
   ]
  },
  {
   "cell_type": "markdown",
   "metadata": {},
   "source": [
    "## 1.2) créer une fonction"
   ]
  },
  {
   "cell_type": "code",
   "execution_count": 3,
   "metadata": {},
   "outputs": [
    {
     "name": "stdout",
     "output_type": "stream",
     "text": [
      "81\n"
     ]
    }
   ],
   "source": [
    "def au_carre(x):\n",
    "    return x*x\n",
    "\n",
    "print(au_carre(9))"
   ]
  },
  {
   "cell_type": "code",
   "execution_count": 4,
   "metadata": {},
   "outputs": [],
   "source": [
    "def auCarre(x):\n",
    "    return x*x"
   ]
  },
  {
   "cell_type": "code",
   "execution_count": 5,
   "metadata": {},
   "outputs": [],
   "source": [
    "def auCarré(x):\n",
    "    return x*x"
   ]
  },
  {
   "cell_type": "code",
   "execution_count": 6,
   "metadata": {},
   "outputs": [
    {
     "data": {
      "text/plain": [
       "81"
      ]
     },
     "execution_count": 6,
     "metadata": {},
     "output_type": "execute_result"
    }
   ],
   "source": [
    "auCarré(9)"
   ]
  },
  {
   "cell_type": "markdown",
   "metadata": {},
   "source": [
    "# 2) scopes"
   ]
  },
  {
   "cell_type": "markdown",
   "metadata": {},
   "source": [
    "# 2.1) local"
   ]
  },
  {
   "cell_type": "code",
   "execution_count": 7,
   "metadata": {},
   "outputs": [
    {
     "name": "stdout",
     "output_type": "stream",
     "text": [
      "3\n"
     ]
    }
   ],
   "source": [
    "def test_de_scope():\n",
    "    x=3 # le scope local prend la main sur le scope global\n",
    "    print(x)\n",
    "x = 5 # x est déclaréée dans le scope global    \n",
    "test_de_scope()"
   ]
  },
  {
   "cell_type": "markdown",
   "metadata": {},
   "source": [
    "## 2.2) accès au scope global"
   ]
  },
  {
   "cell_type": "code",
   "execution_count": 8,
   "metadata": {},
   "outputs": [
    {
     "name": "stdout",
     "output_type": "stream",
     "text": [
      "5\n"
     ]
    }
   ],
   "source": [
    "def test_de_scope():\n",
    "    print(x) # le x n'est pas déclaré au niveau local, donc on va le chercher au niveau global\n",
    "x = 5 # x est déclaréée dans le scope global    \n",
    "test_de_scope()"
   ]
  },
  {
   "cell_type": "markdown",
   "metadata": {},
   "source": [
    "## 2.3) définition depuis une fonction d'une variable ensuite contenue dans le scope global"
   ]
  },
  {
   "cell_type": "code",
   "execution_count": 9,
   "metadata": {},
   "outputs": [
    {
     "name": "stdout",
     "output_type": "stream",
     "text": [
      "3\n",
      "3\n"
     ]
    }
   ],
   "source": [
    "def test_de_scope():\n",
    "    global x # le x sera ensuite accessible au niveau global\n",
    "    x = 3\n",
    "    print(x) \n",
    "test_de_scope()\n",
    "print(x)"
   ]
  },
  {
   "cell_type": "markdown",
   "metadata": {},
   "source": [
    "# 3) Exécuter des commandes systèmes à travers jupyter \n",
    "## Utiliser le point d'exclamation\n",
    "! ls "
   ]
  },
  {
   "cell_type": "code",
   "execution_count": 10,
   "metadata": {},
   "outputs": [
    {
     "name": "stdout",
     "output_type": "stream",
     "text": [
      "README.md                        romain_notebook_1.ipynb\r\n",
      "notebook_1_bases_de_python.ipynb\r\n"
     ]
    }
   ],
   "source": [
    "!ls"
   ]
  },
  {
   "cell_type": "code",
   "execution_count": 11,
   "metadata": {},
   "outputs": [
    {
     "name": "stdout",
     "output_type": "stream",
     "text": [
      "total 64\r\n",
      "-rw-r--r--  1 romain  staff    26B Apr 26 10:40 README.md\r\n",
      "-rw-r--r--  1 romain  staff    13K Apr 26 10:40 notebook_1_bases_de_python.ipynb\r\n",
      "-rw-r--r--  1 romain  staff   9.8K Apr 26 12:12 romain_notebook_1.ipynb\r\n"
     ]
    }
   ],
   "source": [
    "!ls -lh"
   ]
  },
  {
   "cell_type": "code",
   "execution_count": 12,
   "metadata": {},
   "outputs": [
    {
     "name": "stdout",
     "output_type": "stream",
     "text": [
      "On branch main\r\n",
      "Your branch is up to date with 'origin/main'.\r\n",
      "\r\n",
      "Changes not staged for commit:\r\n",
      "  (use \"git add <file>...\" to update what will be committed)\r\n",
      "  (use \"git checkout -- <file>...\" to discard changes in working directory)\r\n",
      "\r\n",
      "\t\u001b[31mmodified:   .ipynb_checkpoints/romain_notebook_1-checkpoint.ipynb\u001b[m\r\n",
      "\t\u001b[31mmodified:   romain_notebook_1.ipynb\u001b[m\r\n",
      "\r\n",
      "no changes added to commit (use \"git add\" and/or \"git commit -a\")\r\n"
     ]
    }
   ],
   "source": [
    "!git status"
   ]
  },
  {
   "cell_type": "code",
   "execution_count": 14,
   "metadata": {},
   "outputs": [
    {
     "data": {
      "application/javascript": [
       "IPython.notebook.save_checkpoint();"
      ],
      "text/plain": [
       "<IPython.core.display.Javascript object>"
      ]
     },
     "metadata": {},
     "output_type": "display_data"
    },
    {
     "name": "stdout",
     "output_type": "stream",
     "text": [
      "git add .\n",
      "git commit -m 'just to update'\n",
      "git push\n",
      "Fini.\n"
     ]
    }
   ],
   "source": [
    "push(\"just to update\")"
   ]
  },
  {
   "cell_type": "markdown",
   "metadata": {},
   "source": [
    "# 4) Attention : il est possible d'écraser un mot \"builtin\" du langage python, par une variable\n"
   ]
  },
  {
   "cell_type": "markdown",
   "metadata": {},
   "source": [
    "## 4.1) exemple : écrasement de la fonction \"print\" par une string"
   ]
  },
  {
   "cell_type": "markdown",
   "metadata": {},
   "source": [
    "## Tip : raccourci clavier pour sélectionner des cellules et les fussioner => MAJ + M"
   ]
  },
  {
   "cell_type": "code",
   "execution_count": 15,
   "metadata": {},
   "outputs": [
    {
     "data": {
      "text/plain": [
       "'\\nprint = \"coucou\"\\n\\nprint\\n\\nprint(\"hello\")\\n'"
      ]
     },
     "execution_count": 15,
     "metadata": {},
     "output_type": "execute_result"
    }
   ],
   "source": [
    "\"\"\"\n",
    "print = \"coucou\"\n",
    "\n",
    "print\n",
    "\n",
    "print(\"hello\")\n",
    "\"\"\""
   ]
  },
  {
   "cell_type": "markdown",
   "metadata": {},
   "source": [
    "## 4.2) pour récupérer la fonction print il faut reloader le système => cf le bouton \"redémarrer le noyau\" (impossible dans un script !)"
   ]
  },
  {
   "cell_type": "markdown",
   "metadata": {},
   "source": [
    "# 5) Triples guillemets\n",
    "## 5.1) les commentaires peuvent être :\n",
    "- sur une seule ligne => #\n",
    "- sur plusieurs lignes => \"\"\" \"\"\" (triple guillemets) \n",
    "\n",
    "les tripes guillements permettent aussi de faire de la mise en forme pour un print"
   ]
  },
  {
   "cell_type": "code",
   "execution_count": 16,
   "metadata": {},
   "outputs": [],
   "source": [
    "# un commentaire"
   ]
  },
  {
   "cell_type": "code",
   "execution_count": 19,
   "metadata": {},
   "outputs": [],
   "source": [
    "texte_a_afficher = \"\"\"\n",
    "    Ce texte garde la mise en page \n",
    "        \\-> (notamment les tabulations)\n",
    "    Car il est entre triple guillemets\n",
    "\"\"\""
   ]
  },
  {
   "cell_type": "code",
   "execution_count": 20,
   "metadata": {},
   "outputs": [
    {
     "name": "stdout",
     "output_type": "stream",
     "text": [
      "\n",
      "    Ce texte garde la mise en page \n",
      "        \\-> (notamment les tabulations)\n",
      "    Car il est entre triple guillemets\n",
      "\n"
     ]
    }
   ],
   "source": [
    "print(texte_a_afficher)"
   ]
  },
  {
   "cell_type": "markdown",
   "metadata": {},
   "source": [
    "## 5.2) les triples guillements sont utiles pour documenter les fonctions"
   ]
  },
  {
   "cell_type": "code",
   "execution_count": 21,
   "metadata": {},
   "outputs": [],
   "source": [
    "def demonstration_de_documentation(x,y):\n",
    "    \"\"\"\n",
    "    La convention veut une seule phrase pour expliquer ce que fait la fonction, suivie d'une ligne vide.\n",
    "    \n",
    "    Plus de descriptions pour détailler le code / l'algo.\n",
    "    Cette descriptions qui peut être sur plusieurs lignes\n",
    "    \n",
    "    Parameters:\n",
    "        x : string\n",
    "        y: string\n",
    "    \n",
    "    Return : \n",
    "        def de la valeur de retour\n",
    "        \n",
    "    \"\"\"\n",
    "    return \"rien\""
   ]
  },
  {
   "cell_type": "code",
   "execution_count": null,
   "metadata": {},
   "outputs": [],
   "source": [
    "demonstration_de_documentation()"
   ]
  },
  {
   "cell_type": "markdown",
   "metadata": {},
   "source": [
    "# 6) pointeurs"
   ]
  },
  {
   "cell_type": "markdown",
   "metadata": {},
   "source": [
    "## 6.1) les pointeurs référencient la même position mémoire"
   ]
  },
  {
   "cell_type": "code",
   "execution_count": 22,
   "metadata": {},
   "outputs": [],
   "source": [
    "x = [\"Hello\", \"world\"]"
   ]
  },
  {
   "cell_type": "code",
   "execution_count": 25,
   "metadata": {},
   "outputs": [],
   "source": [
    "y = x"
   ]
  },
  {
   "cell_type": "code",
   "execution_count": 26,
   "metadata": {},
   "outputs": [],
   "source": [
    "y[0] = \"coucou\""
   ]
  },
  {
   "cell_type": "code",
   "execution_count": 27,
   "metadata": {},
   "outputs": [
    {
     "data": {
      "text/plain": [
       "['coucou', 'world']"
      ]
     },
     "execution_count": 27,
     "metadata": {},
     "output_type": "execute_result"
    }
   ],
   "source": [
    "x"
   ]
  },
  {
   "cell_type": "code",
   "execution_count": 28,
   "metadata": {},
   "outputs": [
    {
     "data": {
      "text/plain": [
       "['coucou', 'world']"
      ]
     },
     "execution_count": 28,
     "metadata": {},
     "output_type": "execute_result"
    }
   ],
   "source": [
    "y"
   ]
  },
  {
   "cell_type": "markdown",
   "metadata": {},
   "source": [
    "## 6.2) copie de listes => fonction \"list\""
   ]
  },
  {
   "cell_type": "code",
   "execution_count": 35,
   "metadata": {},
   "outputs": [],
   "source": [
    "x = [\"Hello\", \"world\"]\n",
    "y = list(x) # copie en mémoire, indépendante"
   ]
  },
  {
   "cell_type": "code",
   "execution_count": 30,
   "metadata": {},
   "outputs": [
    {
     "data": {
      "text/plain": [
       "['coucou', 'world']"
      ]
     },
     "execution_count": 30,
     "metadata": {},
     "output_type": "execute_result"
    }
   ],
   "source": [
    "y[0] = \"coucou\"\n",
    "y"
   ]
  },
  {
   "cell_type": "code",
   "execution_count": 31,
   "metadata": {},
   "outputs": [
    {
     "data": {
      "text/plain": [
       "['Hello', 'world']"
      ]
     },
     "execution_count": 31,
     "metadata": {},
     "output_type": "execute_result"
    }
   ],
   "source": [
    "x"
   ]
  },
  {
   "cell_type": "markdown",
   "metadata": {},
   "source": [
    "## 6.3) les chaînes de caractères sont immuables"
   ]
  },
  {
   "cell_type": "code",
   "execution_count": 32,
   "metadata": {},
   "outputs": [
    {
     "ename": "TypeError",
     "evalue": "'str' object does not support item assignment",
     "output_type": "error",
     "traceback": [
      "\u001b[0;31m---------------------------------------------------------------------------\u001b[0m",
      "\u001b[0;31mTypeError\u001b[0m                                 Traceback (most recent call last)",
      "\u001b[0;32m<ipython-input-32-289173f26585>\u001b[0m in \u001b[0;36m<module>\u001b[0;34m\u001b[0m\n\u001b[1;32m      1\u001b[0m \u001b[0mx\u001b[0m \u001b[0;34m=\u001b[0m \u001b[0;34m\"hello\"\u001b[0m\u001b[0;34m\u001b[0m\u001b[0;34m\u001b[0m\u001b[0m\n\u001b[0;32m----> 2\u001b[0;31m \u001b[0mx\u001b[0m\u001b[0;34m[\u001b[0m\u001b[0;36m0\u001b[0m\u001b[0;34m]\u001b[0m \u001b[0;34m=\u001b[0m \u001b[0;34m\"H\"\u001b[0m\u001b[0;34m\u001b[0m\u001b[0;34m\u001b[0m\u001b[0m\n\u001b[0m",
      "\u001b[0;31mTypeError\u001b[0m: 'str' object does not support item assignment"
     ]
    }
   ],
   "source": [
    "x = \"hello\"\n",
    "x[0] = \"H\""
   ]
  },
  {
   "cell_type": "code",
   "execution_count": 33,
   "metadata": {},
   "outputs": [
    {
     "data": {
      "text/plain": [
       "'Hello'"
      ]
     },
     "execution_count": 33,
     "metadata": {},
     "output_type": "execute_result"
    }
   ],
   "source": [
    "x.capitalize()"
   ]
  },
  {
   "cell_type": "markdown",
   "metadata": {},
   "source": [
    "# 7) les classes"
   ]
  },
  {
   "cell_type": "markdown",
   "metadata": {},
   "source": [
    "## 7.1) déclaration de classe"
   ]
  },
  {
   "cell_type": "code",
   "execution_count": 59,
   "metadata": {},
   "outputs": [],
   "source": [
    "class livre():                    # déclaration de classe\n",
    "    def __init__(self, autheur):  # constructeur de la classe => __init__ (en python)\n",
    "        self.autheur = autheur    # les attributs sont créés à la volée\n",
    "        \n",
    "    def __str__(self):            # méthode appelée lors d'un affichage de l'instance\n",
    "        return \"L'auteur est \" + self.autheur\n",
    "    "
   ]
  },
  {
   "cell_type": "code",
   "execution_count": 60,
   "metadata": {},
   "outputs": [],
   "source": [
    "instance = livre(\"tolstoi\")"
   ]
  },
  {
   "cell_type": "code",
   "execution_count": 61,
   "metadata": {},
   "outputs": [
    {
     "data": {
      "text/plain": [
       "'tolstoi'"
      ]
     },
     "execution_count": 61,
     "metadata": {},
     "output_type": "execute_result"
    }
   ],
   "source": [
    "instance.autheur"
   ]
  },
  {
   "cell_type": "code",
   "execution_count": 62,
   "metadata": {},
   "outputs": [
    {
     "name": "stdout",
     "output_type": "stream",
     "text": [
      "L'auteur est tolstoi\n"
     ]
    }
   ],
   "source": [
    "print(instance)"
   ]
  },
  {
   "cell_type": "markdown",
   "metadata": {},
   "source": [
    "## 7.2) déclaration d'un attribut non défini dans la classe, sur une instance"
   ]
  },
  {
   "cell_type": "code",
   "execution_count": 65,
   "metadata": {},
   "outputs": [],
   "source": [
    "instance.nouvel_attribut = \"impossible en java\""
   ]
  },
  {
   "cell_type": "code",
   "execution_count": 66,
   "metadata": {},
   "outputs": [
    {
     "data": {
      "text/plain": [
       "'impossible en java'"
      ]
     },
     "execution_count": 66,
     "metadata": {},
     "output_type": "execute_result"
    }
   ],
   "source": [
    "instance.nouvel_attribut"
   ]
  },
  {
   "cell_type": "markdown",
   "metadata": {},
   "source": [
    "## 7.3) la méthode \\_\\_dict__ permet de connaître les attributs d'une instance"
   ]
  },
  {
   "cell_type": "code",
   "execution_count": 67,
   "metadata": {},
   "outputs": [
    {
     "data": {
      "text/plain": [
       "{'autheur': 'tolstoi',\n",
       " 'date_de_parution': '1900',\n",
       " 'nouvel_attribut': 'impossible en java'}"
      ]
     },
     "execution_count": 67,
     "metadata": {},
     "output_type": "execute_result"
    }
   ],
   "source": [
    "instance.__dict__"
   ]
  },
  {
   "cell_type": "markdown",
   "metadata": {},
   "source": [
    "## 7.4) Il n'y a pas de Getter / setter => il suffit de créer les attributs à la volée"
   ]
  },
  {
   "cell_type": "code",
   "execution_count": 68,
   "metadata": {},
   "outputs": [],
   "source": [
    "instance.date_de_parution = \"1900\""
   ]
  },
  {
   "cell_type": "code",
   "execution_count": 69,
   "metadata": {},
   "outputs": [
    {
     "data": {
      "text/plain": [
       "{'autheur': 'tolstoi',\n",
       " 'date_de_parution': '1900',\n",
       " 'nouvel_attribut': 'impossible en java'}"
      ]
     },
     "execution_count": 69,
     "metadata": {},
     "output_type": "execute_result"
    }
   ],
   "source": [
    "instance.__dict__"
   ]
  },
  {
   "cell_type": "markdown",
   "metadata": {},
   "source": [
    "# 8) liste / tuples / set"
   ]
  },
  {
   "cell_type": "code",
   "execution_count": 78,
   "metadata": {},
   "outputs": [],
   "source": [
    "liste = [\"hello\", \"world\"] # modifiable"
   ]
  },
  {
   "cell_type": "code",
   "execution_count": 76,
   "metadata": {},
   "outputs": [],
   "source": [
    "un_tuple =  (\"hello\", \"world\", \"hello\") # non modifiable"
   ]
  },
  {
   "cell_type": "code",
   "execution_count": 77,
   "metadata": {},
   "outputs": [
    {
     "data": {
      "text/plain": [
       "{'hello', 'world'}"
      ]
     },
     "execution_count": 77,
     "metadata": {},
     "output_type": "execute_result"
    }
   ],
   "source": [
    "un_set = set(un_tuple)  # que des éléments unique\n",
    "un_set"
   ]
  },
  {
   "cell_type": "code",
   "execution_count": 80,
   "metadata": {},
   "outputs": [],
   "source": [
    "liste.append(\"!\") "
   ]
  },
  {
   "cell_type": "code",
   "execution_count": 81,
   "metadata": {},
   "outputs": [
    {
     "data": {
      "text/plain": [
       "['hello', 'world', '!']"
      ]
     },
     "execution_count": 81,
     "metadata": {},
     "output_type": "execute_result"
    }
   ],
   "source": [
    "liste"
   ]
  },
  {
   "cell_type": "code",
   "execution_count": 82,
   "metadata": {},
   "outputs": [
    {
     "name": "stdout",
     "output_type": "stream",
     "text": [
      "la liste est non vide\n"
     ]
    }
   ],
   "source": [
    "if liste:\n",
    "    print(\"la liste est non vide\")"
   ]
  },
  {
   "cell_type": "code",
   "execution_count": 85,
   "metadata": {},
   "outputs": [
    {
     "name": "stdout",
     "output_type": "stream",
     "text": [
      "la liste est vide\n"
     ]
    }
   ],
   "source": [
    "liste_vide = []\n",
    "\n",
    "if liste_vide: # une liste vide est considérée comme un False, comme un set ou un tuple vide\n",
    "    print(\"la liste est non vide\")\n",
    "else:\n",
    "    print(\"la liste est vide\") "
   ]
  },
  {
   "cell_type": "markdown",
   "metadata": {},
   "source": [
    "# 9) les conditions (if) sont aussi liées à l'indentation"
   ]
  },
  {
   "cell_type": "code",
   "execution_count": 89,
   "metadata": {},
   "outputs": [
    {
     "name": "stdout",
     "output_type": "stream",
     "text": [
      "fonction indentée\n",
      "ce qui s'exécute si le test de if passe pas\n"
     ]
    }
   ],
   "source": [
    "liste_vide = []\n",
    "\n",
    "if liste_vide: \n",
    "    print(\"fonction indentée\")\n",
    "    print(\"ce qui s'exécute si le test de if passe\")    \n",
    "else:\n",
    "    print(\"fonction indentée\")    \n",
    "    print(\"ce qui s'exécute si le test de if passe pas\")        "
   ]
  },
  {
   "cell_type": "markdown",
   "metadata": {},
   "source": [
    "# 10) f-string"
   ]
  },
  {
   "cell_type": "code",
   "execution_count": 90,
   "metadata": {},
   "outputs": [],
   "source": [
    "prenom = \"romain\"\n",
    "nom = \"jouin\""
   ]
  },
  {
   "cell_type": "code",
   "execution_count": 91,
   "metadata": {},
   "outputs": [
    {
     "name": "stdout",
     "output_type": "stream",
     "text": [
      " Bonjour romain jouin !\n"
     ]
    }
   ],
   "source": [
    "f_string = f\" Bonjour {prenom} {nom} !\"\n",
    "print(f_string)"
   ]
  },
  {
   "cell_type": "markdown",
   "metadata": {},
   "source": [
    "# 11) fonction input pour demander de l'info à l'utilisateur"
   ]
  },
  {
   "cell_type": "code",
   "execution_count": 94,
   "metadata": {},
   "outputs": [
    {
     "name": "stdout",
     "output_type": "stream",
     "text": [
      "Quel est votre prénom ?romain\n",
      "Quel est votre nom ?jouin\n",
      " Bonjour romain jouin !\n"
     ]
    }
   ],
   "source": [
    "prenom = input(\"Quel est votre prénom ?\")\n",
    "nom = input(\"Quel est votre nom ?\")\n",
    "f_string = f\" Bonjour {prenom} {nom} !\"\n",
    "print(f_string)"
   ]
  },
  {
   "cell_type": "code",
   "execution_count": 97,
   "metadata": {},
   "outputs": [
    {
     "name": "stdout",
     "output_type": "stream",
     "text": [
      "\n",
      "\n",
      " Bonjour romain jouin !\n"
     ]
    }
   ],
   "source": [
    "section = \"\\n\"*2\n",
    "print(f\"{section} Bonjour {prenom} {nom} !\")"
   ]
  },
  {
   "cell_type": "code",
   "execution_count": 99,
   "metadata": {},
   "outputs": [
    {
     "data": {
      "application/javascript": [
       "IPython.notebook.save_checkpoint();"
      ],
      "text/plain": [
       "<IPython.core.display.Javascript object>"
      ]
     },
     "metadata": {},
     "output_type": "display_data"
    },
    {
     "name": "stdout",
     "output_type": "stream",
     "text": [
      "git add .\n",
      "git commit -m 'pour suivre'\n",
      "git push\n",
      "Fini.\n"
     ]
    }
   ],
   "source": [
    "push(\"pour suivre\")"
   ]
  },
  {
   "cell_type": "markdown",
   "metadata": {},
   "source": [
    "# 12) affichage de flottants en arrondi"
   ]
  },
  {
   "cell_type": "code",
   "execution_count": 102,
   "metadata": {},
   "outputs": [],
   "source": [
    "nb_flottant = 2.323456789"
   ]
  },
  {
   "cell_type": "markdown",
   "metadata": {},
   "source": [
    "#### Avec les %"
   ]
  },
  {
   "cell_type": "code",
   "execution_count": 103,
   "metadata": {},
   "outputs": [
    {
     "name": "stdout",
     "output_type": "stream",
     "text": [
      "valeur = 2.32\n"
     ]
    }
   ],
   "source": [
    "print(\"valeur = %.2f\"%nb_flottant)"
   ]
  },
  {
   "cell_type": "markdown",
   "metadata": {},
   "source": [
    "###### avec la f-string"
   ]
  },
  {
   "cell_type": "code",
   "execution_count": 104,
   "metadata": {},
   "outputs": [
    {
     "name": "stdout",
     "output_type": "stream",
     "text": [
      "valeur = 2.32\n"
     ]
    }
   ],
   "source": [
    "print(f\"valeur = {nb_flottant:.2f}\")"
   ]
  },
  {
   "cell_type": "markdown",
   "metadata": {},
   "source": [
    "##### Un nombre de colonnes fixes (utile pour faire des tableaux)"
   ]
  },
  {
   "cell_type": "code",
   "execution_count": 105,
   "metadata": {},
   "outputs": [
    {
     "name": "stdout",
     "output_type": "stream",
     "text": [
      "valeur =       2.32\n"
     ]
    }
   ],
   "source": [
    "print(f\"valeur = {nb_flottant: 10.2f}\")"
   ]
  },
  {
   "cell_type": "code",
   "execution_count": 109,
   "metadata": {},
   "outputs": [
    {
     "name": "stdout",
     "output_type": "stream",
     "text": [
      "valeur =       0.00\n",
      "valeur =     300.00\n",
      "valeur =     600.00\n",
      "valeur =     900.00\n",
      "valeur =    1200.00\n",
      "valeur =    1500.00\n",
      "valeur =    1800.00\n",
      "valeur =    2100.00\n",
      "valeur =    2400.00\n",
      "valeur =    2700.00\n",
      "valeur =    3000.00\n",
      "valeur =    3300.00\n",
      "valeur =    3600.00\n",
      "valeur =    3900.00\n",
      "valeur =    4200.00\n",
      "valeur =    4500.00\n",
      "valeur =    4800.00\n",
      "valeur =    5100.00\n",
      "valeur =    5400.00\n",
      "valeur =    5700.00\n",
      "valeur =    6000.00\n",
      "valeur =    6300.00\n",
      "valeur =    6600.00\n",
      "valeur =    6900.00\n",
      "valeur =    7200.00\n",
      "valeur =    7500.00\n",
      "valeur =    7800.00\n",
      "valeur =    8100.00\n",
      "valeur =    8400.00\n",
      "valeur =    8700.00\n"
     ]
    }
   ],
   "source": [
    "for x in range(30):\n",
    "    a_afficher = x*300\n",
    "    print(f\"valeur = {a_afficher: 10.2f}\") # valeur affichée sur 10 caractères avant la virgule"
   ]
  },
  {
   "cell_type": "markdown",
   "metadata": {},
   "source": [
    "# 13) afficher toutes les variables connues "
   ]
  },
  {
   "cell_type": "code",
   "execution_count": 110,
   "metadata": {
    "collapsed": true
   },
   "outputs": [
    {
     "data": {
      "text/plain": [
       "{'__name__': '__main__',\n",
       " '__doc__': 'Automatically created module for IPython interactive environment',\n",
       " '__package__': None,\n",
       " '__loader__': None,\n",
       " '__spec__': None,\n",
       " '__builtin__': <module 'builtins' (built-in)>,\n",
       " '__builtins__': <module 'builtins' (built-in)>,\n",
       " '_ih': ['',\n",
       "  'def push(message):\\n    \"\"\"\\n    Save current notebook and push whole current dir to origin/master\\n    \\n    Param:\\n        message : str \\n            Commit\\'s message\\n    \\n    Return:\\n        None\\n    \"\"\"\\n    assert(len(message.strip())>10)\\n    import subprocess\\n    from IPython.display import display, Javascript\\n    \\n    cmds = [  \"git add .\",\\n              \"git commit -m \", \\n              \"git push\"]\\n    \\n    # save current notebook\\n    display(Javascript(\\'IPython.notebook.save_checkpoint();\\'))\\n    for cmd in cmds:\\n        cmd = cmd.split()\\n        if \"commit\" in cmd: \\n            cmd.append( f\"\\'{message}\\'\") \\n        print(\" \".join(cmd))\\n        subprocess.check_output(cmd)\\n    print(\"Fini.\")',\n",
       "  'for mot in [\"hello\", \"world\", \"!\"]:\\n    print(mot)                      # Ici la boucle est déterminée par la tabulation ',\n",
       "  'def au_carre(x):\\n    return x*x\\n\\nprint(au_carre(9))',\n",
       "  'def auCarre(x):\\n    return x*x',\n",
       "  'def auCarré(x):\\n    return x*x',\n",
       "  'auCarré(9)',\n",
       "  'def test_de_scope():\\n    x=3 # le scope local prend la main sur le scope global\\n    print(x)\\nx = 5 # x est déclaréée dans le scope global    \\ntest_de_scope()',\n",
       "  \"def test_de_scope():\\n    print(x) # le x n'est pas déclaré au niveau local, donc on va le chercher au niveau global\\nx = 5 # x est déclaréée dans le scope global    \\ntest_de_scope()\",\n",
       "  'def test_de_scope():\\n    global x # le x sera ensuite accessible au niveau global\\n    x = 3\\n    print(x) \\ntest_de_scope()\\nprint(x)',\n",
       "  \"get_ipython().system('ls')\",\n",
       "  \"get_ipython().system('ls -lh')\",\n",
       "  \"get_ipython().system('git status')\",\n",
       "  'push(\"just to update\")',\n",
       "  'push(\"just to update\")',\n",
       "  '\"\"\"\\nprint = \"coucou\"\\n\\nprint\\n\\nprint(\"hello\")\\n\"\"\"',\n",
       "  '# un commentaire',\n",
       "  'texte_a_afficher = \"\"\"\\n    Ce texte garde la mise en page (notamment les tabulations)\\n    Car il est entre triple guillemets\\n\"\"\"',\n",
       "  'print(texte_a_afficher)',\n",
       "  'texte_a_afficher = \"\"\"\\n    Ce texte garde la mise en page \\n        \\\\-> (notamment les tabulations)\\n    Car il est entre triple guillemets\\n\"\"\"',\n",
       "  'print(texte_a_afficher)',\n",
       "  'def demonstration_de_documentation(x,y):\\n    \"\"\"\\n    La convention veut une seule phrase pour expliquer ce que fait la fonction, suivie d\\'une ligne vide.\\n    \\n    Plus de descriptions pour détailler le code / l\\'algo.\\n    Cette descriptions qui peut être sur plusieurs lignes\\n    \\n    Parameters:\\n        x : string\\n        y: string\\n    \\n    Return : \\n        def de la valeur de retour\\n        \\n    \"\"\"\\n    return \"rien\"',\n",
       "  'x = [\"Hello\", \"world\"]',\n",
       "  'x',\n",
       "  '&x',\n",
       "  'y = x',\n",
       "  'y[0] = \"coucou\"',\n",
       "  'x',\n",
       "  'y',\n",
       "  'x = [\"Hello\", \"world\"]\\ny = list(x) # copie en mémoire, indépendante',\n",
       "  'y[0] = \"coucou\"\\ny',\n",
       "  'x',\n",
       "  'x = \"hello\"\\nx[0] = \"H\"',\n",
       "  'x.capitalize()',\n",
       "  'x.__dict__',\n",
       "  'x = [\"Hello\", \"world\"]\\ny = list(x) # copie en mémoire, indépendante',\n",
       "  'x = [\"\"]',\n",
       "  'x.__dict__',\n",
       "  'class livre():\\n    def __init__(self, autheur):\\n        self.autheur = \"\"',\n",
       "  'livre(\"tolstoi\")',\n",
       "  'class livre():\\n    def __init__(self, autheur):\\n        self.autheur = autheur',\n",
       "  'instance = livre(\"tolstoi\")',\n",
       "  'instance.autheur',\n",
       "  'class livre():\\n    def __init__(self, autheur):\\n        self.autheur = autheur # les attributs sont créés à la volée',\n",
       "  'instance = livre(\"tolstoi\")',\n",
       "  'instance.autheur',\n",
       "  'instance.nouvel_attribut = \"impossible en java\"',\n",
       "  'instance.nouvel_attribut',\n",
       "  'push(\"pour suivre\")',\n",
       "  'instance.__dict__',\n",
       "  'class livre():                    # déclaration de classe\\n    def __init__(self, autheur):  # constructeur de la classe => __init__ (en python)\\n        self.autheur = autheur    # les attributs sont créés à la volée\\n        \\n    def __str__(self):            # méthode appelée lors d\\'un affichage de l\\'instance\\n        return \"L\\'auteur est \" + self.autheur',\n",
       "  'instance = livre(\"tolstoi\")',\n",
       "  'instance.autheur',\n",
       "  'instance',\n",
       "  'print(instance)',\n",
       "  'class livre():                    # déclaration de classe\\n    def __init__(self, autheur):  # constructeur de la classe => __init__ (en python)\\n        self.autheur = autheur    # les attributs sont créés à la volée\\n        ',\n",
       "  'instance = livre(\"tolstoi\")',\n",
       "  'instance.autheur',\n",
       "  'print(instance)',\n",
       "  'class livre():                    # déclaration de classe\\n    def __init__(self, autheur):  # constructeur de la classe => __init__ (en python)\\n        self.autheur = autheur    # les attributs sont créés à la volée\\n        \\n    def __str__(self):            # méthode appelée lors d\\'un affichage de l\\'instance\\n        return \"L\\'auteur est \" + self.autheur',\n",
       "  'instance = livre(\"tolstoi\")',\n",
       "  'instance.autheur',\n",
       "  'print(instance)',\n",
       "  'instance.date_de_parution = \"1900\"',\n",
       "  'instance.__dict__',\n",
       "  'instance.nouvel_attribut = \"impossible en java\"',\n",
       "  'instance.nouvel_attribut',\n",
       "  'instance.__dict__',\n",
       "  'instance.date_de_parution = \"1900\"',\n",
       "  'instance.__dict__',\n",
       "  'liste = [\"hello\", \"world\"]',\n",
       "  'un_tuple =  (\"hello\", \"world\")',\n",
       "  'un_tuple =  (\"hello\", \"world\", \"hello\")',\n",
       "  'un_set = set(un_tuple)\\nun_set',\n",
       "  'liste.append(\"!\")',\n",
       "  'liste',\n",
       "  'un_tuple =  (\"hello\", \"world\", \"hello\") # non modifiable',\n",
       "  'un_set = set(un_tuple)  # que des éléments unique\\nun_set',\n",
       "  'liste = [\"hello\", \"world\"] # modifiable',\n",
       "  'liste',\n",
       "  'liste.append(\"!\") ',\n",
       "  'liste',\n",
       "  'if liste:\\n    print(\"la liste est non vide\")',\n",
       "  'liste_vide = []\\nif liste_vide:\\n    print(\"la liste est non vide\")\\nelse:\\n    print(\"la liste est vide\")',\n",
       "  'liste_vide = []\\n\\nif liste_vide: # une liste vide est considérée comme un False\\n    print(\"la liste est non vide\")\\nelse:\\n    print(\"la liste est vide\") ',\n",
       "  'liste_vide = []\\n\\nif liste_vide: # une liste vide est considérée comme un False, comme un set ou un tuple vide\\n    print(\"la liste est non vide\")\\nelse:\\n    print(\"la liste est vide\") ',\n",
       "  'liste_vide = []\\n\\nif liste_vide: \\n    print(\"fonction indentée\")\\n    print(\"ce qui s\\'exécute si le test de if passe\")    \\nelse:\\n    print(\"fonction indentée\")    \\n    print(\"ce qui s\\'exécute si le test de if passe pas\")        ',\n",
       "  'liste_vide = []\\n\\nif liste_vide: \\n    print(\"fonction indentée\")\\n    print(\"ce qui s\\'exécute si le test de if passe\")    \\nelse:\\n    print(\"fonction indentée\")    \\n    print(\\'ce qui s\"exécute si le test de if passe pas\\')        ',\n",
       "  'liste_vide = []\\n\\nif liste_vide: \\n    print(\"fonction indentée\")\\n    print(\"ce qui s\\'exécute si le test de if passe\")    \\nelse:\\n    print(\"fonction indentée\")    \\n    print(ce qui s\\'exécute si le test de if passe pas\")        ',\n",
       "  'liste_vide = []\\n\\nif liste_vide: \\n    print(\"fonction indentée\")\\n    print(\"ce qui s\\'exécute si le test de if passe\")    \\nelse:\\n    print(\"fonction indentée\")    \\n    print(\"ce qui s\\'exécute si le test de if passe pas\")        ',\n",
       "  'prenom = \"romain\"\\nnom = \"jouin\"',\n",
       "  'f_string = f\" Bonjour {prenom} {nom} !\"\\nprint(f_string)',\n",
       "  'prenom = input()\\nnom = input()',\n",
       "  'prenom = input(\"Quel est votre prénom ?\")\\nnom = input(\"Quel est votre nom ?\")\\nf_string = f\" Bonjour {prenom} {nom} !\"\\nprint(f_string)',\n",
       "  'prenom = input(\"Quel est votre prénom ?\")\\nnom = input(\"Quel est votre nom ?\")\\nf_string = f\" Bonjour {prenom} {nom} !\"\\nprint(f_string)',\n",
       "  '\"-\"*30',\n",
       "  'section = \"\\\\n\"*30\\nprint(f\"{section} Bonjour {prenom} {nom} !\")',\n",
       "  'section = \"\\\\n\"*2\\nprint(f\"{section} Bonjour {prenom} {nom} !\")',\n",
       "  'push(\"pour suivre\")',\n",
       "  'push(\"pour suivre\")',\n",
       "  'nb_flottant = 2.3',\n",
       "  'print(\"valeur = %.2f\"%nb_flottant)',\n",
       "  'nb_flottant = 2.323456789',\n",
       "  'print(\"valeur = %.2f\"%nb_flottant)',\n",
       "  'print(f\"valeur = {nb_flottant:.2f}\")',\n",
       "  'print(f\"valeur = {nb_flottant: 10.2f}\")',\n",
       "  'for x in range(30):\\n    a_afficher = x*300\\n    print(f\"valeur = {a_afficher: 10.2f}\")',\n",
       "  'for x in range(30):\\n    a_afficher = x*300\\n    print(f\"valeur = {a_afficher:010.2f}\")',\n",
       "  'for x in range(30):\\n    a_afficher = x*300\\n    print(f\"valeur = {a_afficher: 10.2f}\")',\n",
       "  'for x in range(30):\\n    a_afficher = x*300\\n    print(f\"valeur = {a_afficher: 10.2f}\") # valeur affichée sur 10 caractères avant la virgule',\n",
       "  'locals()'],\n",
       " '_oh': {6: 81,\n",
       "  15: '\\nprint = \"coucou\"\\n\\nprint\\n\\nprint(\"hello\")\\n',\n",
       "  23: ['coucou', 'world'],\n",
       "  27: ['coucou', 'world'],\n",
       "  28: ['coucou', 'world'],\n",
       "  30: ['coucou', 'world'],\n",
       "  31: ['Hello', 'world'],\n",
       "  33: 'Hello',\n",
       "  39: <__main__.livre at 0x11362ca90>,\n",
       "  42: 'tolstoi',\n",
       "  45: 'tolstoi',\n",
       "  47: 'impossible en java',\n",
       "  49: {'autheur': 'tolstoi', 'nouvel_attribut': 'impossible en java'},\n",
       "  52: 'tolstoi',\n",
       "  53: <__main__.livre at 0x113906f70>,\n",
       "  57: 'tolstoi',\n",
       "  61: 'tolstoi',\n",
       "  64: {'autheur': 'tolstoi',\n",
       "   'date_de_parution': '1900',\n",
       "   'nouvel_attribut': 'impossible en java'},\n",
       "  66: 'impossible en java',\n",
       "  67: {'autheur': 'tolstoi',\n",
       "   'date_de_parution': '1900',\n",
       "   'nouvel_attribut': 'impossible en java'},\n",
       "  69: {'autheur': 'tolstoi',\n",
       "   'date_de_parution': '1900',\n",
       "   'nouvel_attribut': 'impossible en java'},\n",
       "  73: {'hello', 'world'},\n",
       "  75: ['hello', 'world', '!'],\n",
       "  77: {'hello', 'world'},\n",
       "  79: ['hello', 'world', '!'],\n",
       "  81: ['hello', 'world', '!'],\n",
       "  95: '------------------------------'},\n",
       " '_dh': ['/Users/romain/Informatique/formation_python_py3Dev'],\n",
       " 'In': ['',\n",
       "  'def push(message):\\n    \"\"\"\\n    Save current notebook and push whole current dir to origin/master\\n    \\n    Param:\\n        message : str \\n            Commit\\'s message\\n    \\n    Return:\\n        None\\n    \"\"\"\\n    assert(len(message.strip())>10)\\n    import subprocess\\n    from IPython.display import display, Javascript\\n    \\n    cmds = [  \"git add .\",\\n              \"git commit -m \", \\n              \"git push\"]\\n    \\n    # save current notebook\\n    display(Javascript(\\'IPython.notebook.save_checkpoint();\\'))\\n    for cmd in cmds:\\n        cmd = cmd.split()\\n        if \"commit\" in cmd: \\n            cmd.append( f\"\\'{message}\\'\") \\n        print(\" \".join(cmd))\\n        subprocess.check_output(cmd)\\n    print(\"Fini.\")',\n",
       "  'for mot in [\"hello\", \"world\", \"!\"]:\\n    print(mot)                      # Ici la boucle est déterminée par la tabulation ',\n",
       "  'def au_carre(x):\\n    return x*x\\n\\nprint(au_carre(9))',\n",
       "  'def auCarre(x):\\n    return x*x',\n",
       "  'def auCarré(x):\\n    return x*x',\n",
       "  'auCarré(9)',\n",
       "  'def test_de_scope():\\n    x=3 # le scope local prend la main sur le scope global\\n    print(x)\\nx = 5 # x est déclaréée dans le scope global    \\ntest_de_scope()',\n",
       "  \"def test_de_scope():\\n    print(x) # le x n'est pas déclaré au niveau local, donc on va le chercher au niveau global\\nx = 5 # x est déclaréée dans le scope global    \\ntest_de_scope()\",\n",
       "  'def test_de_scope():\\n    global x # le x sera ensuite accessible au niveau global\\n    x = 3\\n    print(x) \\ntest_de_scope()\\nprint(x)',\n",
       "  \"get_ipython().system('ls')\",\n",
       "  \"get_ipython().system('ls -lh')\",\n",
       "  \"get_ipython().system('git status')\",\n",
       "  'push(\"just to update\")',\n",
       "  'push(\"just to update\")',\n",
       "  '\"\"\"\\nprint = \"coucou\"\\n\\nprint\\n\\nprint(\"hello\")\\n\"\"\"',\n",
       "  '# un commentaire',\n",
       "  'texte_a_afficher = \"\"\"\\n    Ce texte garde la mise en page (notamment les tabulations)\\n    Car il est entre triple guillemets\\n\"\"\"',\n",
       "  'print(texte_a_afficher)',\n",
       "  'texte_a_afficher = \"\"\"\\n    Ce texte garde la mise en page \\n        \\\\-> (notamment les tabulations)\\n    Car il est entre triple guillemets\\n\"\"\"',\n",
       "  'print(texte_a_afficher)',\n",
       "  'def demonstration_de_documentation(x,y):\\n    \"\"\"\\n    La convention veut une seule phrase pour expliquer ce que fait la fonction, suivie d\\'une ligne vide.\\n    \\n    Plus de descriptions pour détailler le code / l\\'algo.\\n    Cette descriptions qui peut être sur plusieurs lignes\\n    \\n    Parameters:\\n        x : string\\n        y: string\\n    \\n    Return : \\n        def de la valeur de retour\\n        \\n    \"\"\"\\n    return \"rien\"',\n",
       "  'x = [\"Hello\", \"world\"]',\n",
       "  'x',\n",
       "  '&x',\n",
       "  'y = x',\n",
       "  'y[0] = \"coucou\"',\n",
       "  'x',\n",
       "  'y',\n",
       "  'x = [\"Hello\", \"world\"]\\ny = list(x) # copie en mémoire, indépendante',\n",
       "  'y[0] = \"coucou\"\\ny',\n",
       "  'x',\n",
       "  'x = \"hello\"\\nx[0] = \"H\"',\n",
       "  'x.capitalize()',\n",
       "  'x.__dict__',\n",
       "  'x = [\"Hello\", \"world\"]\\ny = list(x) # copie en mémoire, indépendante',\n",
       "  'x = [\"\"]',\n",
       "  'x.__dict__',\n",
       "  'class livre():\\n    def __init__(self, autheur):\\n        self.autheur = \"\"',\n",
       "  'livre(\"tolstoi\")',\n",
       "  'class livre():\\n    def __init__(self, autheur):\\n        self.autheur = autheur',\n",
       "  'instance = livre(\"tolstoi\")',\n",
       "  'instance.autheur',\n",
       "  'class livre():\\n    def __init__(self, autheur):\\n        self.autheur = autheur # les attributs sont créés à la volée',\n",
       "  'instance = livre(\"tolstoi\")',\n",
       "  'instance.autheur',\n",
       "  'instance.nouvel_attribut = \"impossible en java\"',\n",
       "  'instance.nouvel_attribut',\n",
       "  'push(\"pour suivre\")',\n",
       "  'instance.__dict__',\n",
       "  'class livre():                    # déclaration de classe\\n    def __init__(self, autheur):  # constructeur de la classe => __init__ (en python)\\n        self.autheur = autheur    # les attributs sont créés à la volée\\n        \\n    def __str__(self):            # méthode appelée lors d\\'un affichage de l\\'instance\\n        return \"L\\'auteur est \" + self.autheur',\n",
       "  'instance = livre(\"tolstoi\")',\n",
       "  'instance.autheur',\n",
       "  'instance',\n",
       "  'print(instance)',\n",
       "  'class livre():                    # déclaration de classe\\n    def __init__(self, autheur):  # constructeur de la classe => __init__ (en python)\\n        self.autheur = autheur    # les attributs sont créés à la volée\\n        ',\n",
       "  'instance = livre(\"tolstoi\")',\n",
       "  'instance.autheur',\n",
       "  'print(instance)',\n",
       "  'class livre():                    # déclaration de classe\\n    def __init__(self, autheur):  # constructeur de la classe => __init__ (en python)\\n        self.autheur = autheur    # les attributs sont créés à la volée\\n        \\n    def __str__(self):            # méthode appelée lors d\\'un affichage de l\\'instance\\n        return \"L\\'auteur est \" + self.autheur',\n",
       "  'instance = livre(\"tolstoi\")',\n",
       "  'instance.autheur',\n",
       "  'print(instance)',\n",
       "  'instance.date_de_parution = \"1900\"',\n",
       "  'instance.__dict__',\n",
       "  'instance.nouvel_attribut = \"impossible en java\"',\n",
       "  'instance.nouvel_attribut',\n",
       "  'instance.__dict__',\n",
       "  'instance.date_de_parution = \"1900\"',\n",
       "  'instance.__dict__',\n",
       "  'liste = [\"hello\", \"world\"]',\n",
       "  'un_tuple =  (\"hello\", \"world\")',\n",
       "  'un_tuple =  (\"hello\", \"world\", \"hello\")',\n",
       "  'un_set = set(un_tuple)\\nun_set',\n",
       "  'liste.append(\"!\")',\n",
       "  'liste',\n",
       "  'un_tuple =  (\"hello\", \"world\", \"hello\") # non modifiable',\n",
       "  'un_set = set(un_tuple)  # que des éléments unique\\nun_set',\n",
       "  'liste = [\"hello\", \"world\"] # modifiable',\n",
       "  'liste',\n",
       "  'liste.append(\"!\") ',\n",
       "  'liste',\n",
       "  'if liste:\\n    print(\"la liste est non vide\")',\n",
       "  'liste_vide = []\\nif liste_vide:\\n    print(\"la liste est non vide\")\\nelse:\\n    print(\"la liste est vide\")',\n",
       "  'liste_vide = []\\n\\nif liste_vide: # une liste vide est considérée comme un False\\n    print(\"la liste est non vide\")\\nelse:\\n    print(\"la liste est vide\") ',\n",
       "  'liste_vide = []\\n\\nif liste_vide: # une liste vide est considérée comme un False, comme un set ou un tuple vide\\n    print(\"la liste est non vide\")\\nelse:\\n    print(\"la liste est vide\") ',\n",
       "  'liste_vide = []\\n\\nif liste_vide: \\n    print(\"fonction indentée\")\\n    print(\"ce qui s\\'exécute si le test de if passe\")    \\nelse:\\n    print(\"fonction indentée\")    \\n    print(\"ce qui s\\'exécute si le test de if passe pas\")        ',\n",
       "  'liste_vide = []\\n\\nif liste_vide: \\n    print(\"fonction indentée\")\\n    print(\"ce qui s\\'exécute si le test de if passe\")    \\nelse:\\n    print(\"fonction indentée\")    \\n    print(\\'ce qui s\"exécute si le test de if passe pas\\')        ',\n",
       "  'liste_vide = []\\n\\nif liste_vide: \\n    print(\"fonction indentée\")\\n    print(\"ce qui s\\'exécute si le test de if passe\")    \\nelse:\\n    print(\"fonction indentée\")    \\n    print(ce qui s\\'exécute si le test de if passe pas\")        ',\n",
       "  'liste_vide = []\\n\\nif liste_vide: \\n    print(\"fonction indentée\")\\n    print(\"ce qui s\\'exécute si le test de if passe\")    \\nelse:\\n    print(\"fonction indentée\")    \\n    print(\"ce qui s\\'exécute si le test de if passe pas\")        ',\n",
       "  'prenom = \"romain\"\\nnom = \"jouin\"',\n",
       "  'f_string = f\" Bonjour {prenom} {nom} !\"\\nprint(f_string)',\n",
       "  'prenom = input()\\nnom = input()',\n",
       "  'prenom = input(\"Quel est votre prénom ?\")\\nnom = input(\"Quel est votre nom ?\")\\nf_string = f\" Bonjour {prenom} {nom} !\"\\nprint(f_string)',\n",
       "  'prenom = input(\"Quel est votre prénom ?\")\\nnom = input(\"Quel est votre nom ?\")\\nf_string = f\" Bonjour {prenom} {nom} !\"\\nprint(f_string)',\n",
       "  '\"-\"*30',\n",
       "  'section = \"\\\\n\"*30\\nprint(f\"{section} Bonjour {prenom} {nom} !\")',\n",
       "  'section = \"\\\\n\"*2\\nprint(f\"{section} Bonjour {prenom} {nom} !\")',\n",
       "  'push(\"pour suivre\")',\n",
       "  'push(\"pour suivre\")',\n",
       "  'nb_flottant = 2.3',\n",
       "  'print(\"valeur = %.2f\"%nb_flottant)',\n",
       "  'nb_flottant = 2.323456789',\n",
       "  'print(\"valeur = %.2f\"%nb_flottant)',\n",
       "  'print(f\"valeur = {nb_flottant:.2f}\")',\n",
       "  'print(f\"valeur = {nb_flottant: 10.2f}\")',\n",
       "  'for x in range(30):\\n    a_afficher = x*300\\n    print(f\"valeur = {a_afficher: 10.2f}\")',\n",
       "  'for x in range(30):\\n    a_afficher = x*300\\n    print(f\"valeur = {a_afficher:010.2f}\")',\n",
       "  'for x in range(30):\\n    a_afficher = x*300\\n    print(f\"valeur = {a_afficher: 10.2f}\")',\n",
       "  'for x in range(30):\\n    a_afficher = x*300\\n    print(f\"valeur = {a_afficher: 10.2f}\") # valeur affichée sur 10 caractères avant la virgule',\n",
       "  'locals()'],\n",
       " 'Out': {6: 81,\n",
       "  15: '\\nprint = \"coucou\"\\n\\nprint\\n\\nprint(\"hello\")\\n',\n",
       "  23: ['coucou', 'world'],\n",
       "  27: ['coucou', 'world'],\n",
       "  28: ['coucou', 'world'],\n",
       "  30: ['coucou', 'world'],\n",
       "  31: ['Hello', 'world'],\n",
       "  33: 'Hello',\n",
       "  39: <__main__.livre at 0x11362ca90>,\n",
       "  42: 'tolstoi',\n",
       "  45: 'tolstoi',\n",
       "  47: 'impossible en java',\n",
       "  49: {'autheur': 'tolstoi', 'nouvel_attribut': 'impossible en java'},\n",
       "  52: 'tolstoi',\n",
       "  53: <__main__.livre at 0x113906f70>,\n",
       "  57: 'tolstoi',\n",
       "  61: 'tolstoi',\n",
       "  64: {'autheur': 'tolstoi',\n",
       "   'date_de_parution': '1900',\n",
       "   'nouvel_attribut': 'impossible en java'},\n",
       "  66: 'impossible en java',\n",
       "  67: {'autheur': 'tolstoi',\n",
       "   'date_de_parution': '1900',\n",
       "   'nouvel_attribut': 'impossible en java'},\n",
       "  69: {'autheur': 'tolstoi',\n",
       "   'date_de_parution': '1900',\n",
       "   'nouvel_attribut': 'impossible en java'},\n",
       "  73: {'hello', 'world'},\n",
       "  75: ['hello', 'world', '!'],\n",
       "  77: {'hello', 'world'},\n",
       "  79: ['hello', 'world', '!'],\n",
       "  81: ['hello', 'world', '!'],\n",
       "  95: '------------------------------'},\n",
       " 'get_ipython': <bound method InteractiveShell.get_ipython of <ipykernel.zmqshell.ZMQInteractiveShell object at 0x110e68b80>>,\n",
       " 'exit': <IPython.core.autocall.ZMQExitAutocall at 0x110e88b20>,\n",
       " 'quit': <IPython.core.autocall.ZMQExitAutocall at 0x110e88b20>,\n",
       " '_': '------------------------------',\n",
       " '__': ['hello', 'world', '!'],\n",
       " '___': ['hello', 'world', '!'],\n",
       " '_i': 'for x in range(30):\\n    a_afficher = x*300\\n    print(f\"valeur = {a_afficher: 10.2f}\") # valeur affichée sur 10 caractères avant la virgule',\n",
       " '_ii': 'for x in range(30):\\n    a_afficher = x*300\\n    print(f\"valeur = {a_afficher: 10.2f}\")',\n",
       " '_iii': 'for x in range(30):\\n    a_afficher = x*300\\n    print(f\"valeur = {a_afficher:010.2f}\")',\n",
       " '_i1': 'def push(message):\\n    \"\"\"\\n    Save current notebook and push whole current dir to origin/master\\n    \\n    Param:\\n        message : str \\n            Commit\\'s message\\n    \\n    Return:\\n        None\\n    \"\"\"\\n    assert(len(message.strip())>10)\\n    import subprocess\\n    from IPython.display import display, Javascript\\n    \\n    cmds = [  \"git add .\",\\n              \"git commit -m \", \\n              \"git push\"]\\n    \\n    # save current notebook\\n    display(Javascript(\\'IPython.notebook.save_checkpoint();\\'))\\n    for cmd in cmds:\\n        cmd = cmd.split()\\n        if \"commit\" in cmd: \\n            cmd.append( f\"\\'{message}\\'\") \\n        print(\" \".join(cmd))\\n        subprocess.check_output(cmd)\\n    print(\"Fini.\")',\n",
       " 'push': <function __main__.push(message)>,\n",
       " '_i2': 'for mot in [\"hello\", \"world\", \"!\"]:\\n    print(mot)                      # Ici la boucle est déterminée par la tabulation ',\n",
       " 'mot': '!',\n",
       " '_i3': 'def au_carre(x):\\n    return x*x\\n\\nprint(au_carre(9))',\n",
       " 'au_carre': <function __main__.au_carre(x)>,\n",
       " '_i4': 'def auCarre(x):\\n    return x*x',\n",
       " 'auCarre': <function __main__.auCarre(x)>,\n",
       " '_i5': 'def auCarré(x):\\n    return x*x',\n",
       " 'auCarré': <function __main__.auCarré(x)>,\n",
       " '_i6': 'auCarré(9)',\n",
       " '_6': 81,\n",
       " '_i7': 'def test_de_scope():\\n    x=3 # le scope local prend la main sur le scope global\\n    print(x)\\nx = 5 # x est déclaréée dans le scope global    \\ntest_de_scope()',\n",
       " 'test_de_scope': <function __main__.test_de_scope()>,\n",
       " 'x': 29,\n",
       " '_i8': \"def test_de_scope():\\n    print(x) # le x n'est pas déclaré au niveau local, donc on va le chercher au niveau global\\nx = 5 # x est déclaréée dans le scope global    \\ntest_de_scope()\",\n",
       " '_i9': 'def test_de_scope():\\n    global x # le x sera ensuite accessible au niveau global\\n    x = 3\\n    print(x) \\ntest_de_scope()\\nprint(x)',\n",
       " '_i10': '!ls',\n",
       " '_exit_code': 0,\n",
       " '_i11': '!ls -lh',\n",
       " '_i12': '!git status',\n",
       " '_i13': 'push(\"just to update\")',\n",
       " '_i14': 'push(\"just to update\")',\n",
       " '_i15': '\"\"\"\\nprint = \"coucou\"\\n\\nprint\\n\\nprint(\"hello\")\\n\"\"\"',\n",
       " '_15': '\\nprint = \"coucou\"\\n\\nprint\\n\\nprint(\"hello\")\\n',\n",
       " '_i16': '# un commentaire',\n",
       " '_i17': 'texte_a_afficher = \"\"\"\\n    Ce texte garde la mise en page (notamment les tabulations)\\n    Car il est entre triple guillemets\\n\"\"\"',\n",
       " 'texte_a_afficher': '\\n    Ce texte garde la mise en page \\n        \\\\-> (notamment les tabulations)\\n    Car il est entre triple guillemets\\n',\n",
       " '_i18': 'print(texte_a_afficher)',\n",
       " '_i19': 'texte_a_afficher = \"\"\"\\n    Ce texte garde la mise en page \\n        \\\\-> (notamment les tabulations)\\n    Car il est entre triple guillemets\\n\"\"\"',\n",
       " '_i20': 'print(texte_a_afficher)',\n",
       " '_i21': 'def demonstration_de_documentation(x,y):\\n    \"\"\"\\n    La convention veut une seule phrase pour expliquer ce que fait la fonction, suivie d\\'une ligne vide.\\n    \\n    Plus de descriptions pour détailler le code / l\\'algo.\\n    Cette descriptions qui peut être sur plusieurs lignes\\n    \\n    Parameters:\\n        x : string\\n        y: string\\n    \\n    Return : \\n        def de la valeur de retour\\n        \\n    \"\"\"\\n    return \"rien\"',\n",
       " 'demonstration_de_documentation': <function __main__.demonstration_de_documentation(x, y)>,\n",
       " '_i22': 'x = [\"Hello\", \"world\"]',\n",
       " '_i23': 'x',\n",
       " '_23': ['coucou', 'world'],\n",
       " '_i24': '&x',\n",
       " '_i25': 'y = x',\n",
       " 'y': ['Hello', 'world'],\n",
       " '_i26': 'y[0] = \"coucou\"',\n",
       " '_i27': 'x',\n",
       " '_27': ['coucou', 'world'],\n",
       " '_i28': 'y',\n",
       " '_28': ['coucou', 'world'],\n",
       " '_i29': 'x = [\"Hello\", \"world\"]\\ny = list(x) # copie en mémoire, indépendante',\n",
       " '_i30': 'y[0] = \"coucou\"\\ny',\n",
       " '_30': ['coucou', 'world'],\n",
       " '_i31': 'x',\n",
       " '_31': ['Hello', 'world'],\n",
       " '_i32': 'x = \"hello\"\\nx[0] = \"H\"',\n",
       " '_i33': 'x.capitalize()',\n",
       " '_33': 'Hello',\n",
       " '_i34': 'x.__dict__',\n",
       " '_i35': 'x = [\"Hello\", \"world\"]\\ny = list(x) # copie en mémoire, indépendante',\n",
       " '_i36': 'x = [\"\"]',\n",
       " '_i37': 'x.__dict__',\n",
       " '_i38': 'class livre():\\n    def __init__(self, autheur):\\n        self.autheur = \"\"',\n",
       " 'livre': __main__.livre,\n",
       " '_i39': 'livre(\"tolstoi\")',\n",
       " '_39': <__main__.livre at 0x11362ca90>,\n",
       " '_i40': 'class livre():\\n    def __init__(self, autheur):\\n        self.autheur = autheur',\n",
       " '_i41': 'instance = livre(\"tolstoi\")',\n",
       " 'instance': <__main__.livre at 0x113d3eb50>,\n",
       " '_i42': 'instance.autheur',\n",
       " '_42': 'tolstoi',\n",
       " '_i43': 'class livre():\\n    def __init__(self, autheur):\\n        self.autheur = autheur # les attributs sont créés à la volée',\n",
       " '_i44': 'instance = livre(\"tolstoi\")',\n",
       " '_i45': 'instance.autheur',\n",
       " '_45': 'tolstoi',\n",
       " '_i46': 'instance.nouvel_attribut = \"impossible en java\"',\n",
       " '_i47': 'instance.nouvel_attribut',\n",
       " '_47': 'impossible en java',\n",
       " '_i48': 'push(\"pour suivre\")',\n",
       " '_i49': 'instance.__dict__',\n",
       " '_49': {'autheur': 'tolstoi', 'nouvel_attribut': 'impossible en java'},\n",
       " '_i50': 'class livre():                    # déclaration de classe\\n    def __init__(self, autheur):  # constructeur de la classe => __init__ (en python)\\n        self.autheur = autheur    # les attributs sont créés à la volée\\n        \\n    def __str__(self):            # méthode appelée lors d\\'un affichage de l\\'instance\\n        return \"L\\'auteur est \" + self.autheur',\n",
       " '_i51': 'instance = livre(\"tolstoi\")',\n",
       " '_i52': 'instance.autheur',\n",
       " '_52': 'tolstoi',\n",
       " '_i53': 'instance',\n",
       " '_53': <__main__.livre at 0x113906f70>,\n",
       " '_i54': 'print(instance)',\n",
       " '_i55': 'class livre():                    # déclaration de classe\\n    def __init__(self, autheur):  # constructeur de la classe => __init__ (en python)\\n        self.autheur = autheur    # les attributs sont créés à la volée\\n        ',\n",
       " '_i56': 'instance = livre(\"tolstoi\")',\n",
       " '_i57': 'instance.autheur',\n",
       " '_57': 'tolstoi',\n",
       " '_i58': 'print(instance)',\n",
       " '_i59': 'class livre():                    # déclaration de classe\\n    def __init__(self, autheur):  # constructeur de la classe => __init__ (en python)\\n        self.autheur = autheur    # les attributs sont créés à la volée\\n        \\n    def __str__(self):            # méthode appelée lors d\\'un affichage de l\\'instance\\n        return \"L\\'auteur est \" + self.autheur',\n",
       " '_i60': 'instance = livre(\"tolstoi\")',\n",
       " '_i61': 'instance.autheur',\n",
       " '_61': 'tolstoi',\n",
       " '_i62': 'print(instance)',\n",
       " '_i63': 'instance.date_de_parution = \"1900\"',\n",
       " '_i64': 'instance.__dict__',\n",
       " '_64': {'autheur': 'tolstoi',\n",
       "  'date_de_parution': '1900',\n",
       "  'nouvel_attribut': 'impossible en java'},\n",
       " '_i65': 'instance.nouvel_attribut = \"impossible en java\"',\n",
       " '_i66': 'instance.nouvel_attribut',\n",
       " '_66': 'impossible en java',\n",
       " '_i67': 'instance.__dict__',\n",
       " '_67': {'autheur': 'tolstoi',\n",
       "  'date_de_parution': '1900',\n",
       "  'nouvel_attribut': 'impossible en java'},\n",
       " '_i68': 'instance.date_de_parution = \"1900\"',\n",
       " '_i69': 'instance.__dict__',\n",
       " '_69': {'autheur': 'tolstoi',\n",
       "  'date_de_parution': '1900',\n",
       "  'nouvel_attribut': 'impossible en java'},\n",
       " '_i70': 'liste = [\"hello\", \"world\"]',\n",
       " 'liste': ['hello', 'world', '!'],\n",
       " '_i71': 'un_tuple =  (\"hello\", \"world\")',\n",
       " 'un_tuple': ('hello', 'world', 'hello'),\n",
       " '_i72': 'un_tuple =  (\"hello\", \"world\", \"hello\")',\n",
       " '_i73': 'un_set = set(un_tuple)\\nun_set',\n",
       " 'un_set': {'hello', 'world'},\n",
       " '_73': {'hello', 'world'},\n",
       " '_i74': 'liste.append(\"!\")',\n",
       " '_i75': 'liste',\n",
       " '_75': ['hello', 'world', '!'],\n",
       " '_i76': 'un_tuple =  (\"hello\", \"world\", \"hello\") # non modifiable',\n",
       " '_i77': 'un_set = set(un_tuple)  # que des éléments unique\\nun_set',\n",
       " '_77': {'hello', 'world'},\n",
       " '_i78': 'liste = [\"hello\", \"world\"] # modifiable',\n",
       " '_i79': 'liste',\n",
       " '_79': ['hello', 'world', '!'],\n",
       " '_i80': 'liste.append(\"!\") ',\n",
       " '_i81': 'liste',\n",
       " '_81': ['hello', 'world', '!'],\n",
       " '_i82': 'if liste:\\n    print(\"la liste est non vide\")',\n",
       " '_i83': 'liste_vide = []\\nif liste_vide:\\n    print(\"la liste est non vide\")\\nelse:\\n    print(\"la liste est vide\")',\n",
       " 'liste_vide': [],\n",
       " '_i84': 'liste_vide = []\\n\\nif liste_vide: # une liste vide est considérée comme un False\\n    print(\"la liste est non vide\")\\nelse:\\n    print(\"la liste est vide\") ',\n",
       " '_i85': 'liste_vide = []\\n\\nif liste_vide: # une liste vide est considérée comme un False, comme un set ou un tuple vide\\n    print(\"la liste est non vide\")\\nelse:\\n    print(\"la liste est vide\") ',\n",
       " '_i86': 'liste_vide = []\\n\\nif liste_vide: \\n    print(\"fonction indentée\")\\n    print(\"ce qui s\\'exécute si le test de if passe\")    \\nelse:\\n    print(\"fonction indentée\")    \\n    print(\"ce qui s\\'exécute si le test de if passe pas\")        ',\n",
       " '_i87': 'liste_vide = []\\n\\nif liste_vide: \\n    print(\"fonction indentée\")\\n    print(\"ce qui s\\'exécute si le test de if passe\")    \\nelse:\\n    print(\"fonction indentée\")    \\n    print(\\'ce qui s\"exécute si le test de if passe pas\\')        ',\n",
       " '_i88': 'liste_vide = []\\n\\nif liste_vide: \\n    print(\"fonction indentée\")\\n    print(\"ce qui s\\'exécute si le test de if passe\")    \\nelse:\\n    print(\"fonction indentée\")    \\n    print(ce qui s\\'exécute si le test de if passe pas\")        ',\n",
       " '_i89': 'liste_vide = []\\n\\nif liste_vide: \\n    print(\"fonction indentée\")\\n    print(\"ce qui s\\'exécute si le test de if passe\")    \\nelse:\\n    print(\"fonction indentée\")    \\n    print(\"ce qui s\\'exécute si le test de if passe pas\")        ',\n",
       " '_i90': 'prenom = \"romain\"\\nnom = \"jouin\"',\n",
       " 'prenom': 'romain',\n",
       " 'nom': 'jouin',\n",
       " '_i91': 'f_string = f\" Bonjour {prenom} {nom} !\"\\nprint(f_string)',\n",
       " 'f_string': ' Bonjour romain jouin !',\n",
       " '_i92': 'prenom = input()\\nnom = input()',\n",
       " '_i93': 'prenom = input(\"Quel est votre prénom ?\")\\nnom = input(\"Quel est votre nom ?\")\\nf_string = f\" Bonjour {prenom} {nom} !\"\\nprint(f_string)',\n",
       " '_i94': 'prenom = input(\"Quel est votre prénom ?\")\\nnom = input(\"Quel est votre nom ?\")\\nf_string = f\" Bonjour {prenom} {nom} !\"\\nprint(f_string)',\n",
       " '_i95': '\"-\"*30',\n",
       " '_95': '------------------------------',\n",
       " '_i96': 'section = \"\\\\n\"*30\\nprint(f\"{section} Bonjour {prenom} {nom} !\")',\n",
       " 'section': '\\n\\n',\n",
       " '_i97': 'section = \"\\\\n\"*2\\nprint(f\"{section} Bonjour {prenom} {nom} !\")',\n",
       " '_i98': 'push(\"pour suivre\")',\n",
       " '_i99': 'push(\"pour suivre\")',\n",
       " '_i100': 'nb_flottant = 2.3',\n",
       " 'nb_flottant': 2.323456789,\n",
       " '_i101': 'print(\"valeur = %.2f\"%nb_flottant)',\n",
       " '_i102': 'nb_flottant = 2.323456789',\n",
       " '_i103': 'print(\"valeur = %.2f\"%nb_flottant)',\n",
       " '_i104': 'print(f\"valeur = {nb_flottant:.2f}\")',\n",
       " '_i105': 'print(f\"valeur = {nb_flottant: 10.2f}\")',\n",
       " '_i106': 'for x in range(30):\\n    a_afficher = x*300\\n    print(f\"valeur = {a_afficher: 10.2f}\")',\n",
       " 'a_afficher': 8700,\n",
       " '_i107': 'for x in range(30):\\n    a_afficher = x*300\\n    print(f\"valeur = {a_afficher:010.2f}\")',\n",
       " '_i108': 'for x in range(30):\\n    a_afficher = x*300\\n    print(f\"valeur = {a_afficher: 10.2f}\")',\n",
       " '_i109': 'for x in range(30):\\n    a_afficher = x*300\\n    print(f\"valeur = {a_afficher: 10.2f}\") # valeur affichée sur 10 caractères avant la virgule',\n",
       " '_i110': 'locals()'}"
      ]
     },
     "execution_count": 110,
     "metadata": {},
     "output_type": "execute_result"
    }
   ],
   "source": [
    "locals()"
   ]
  },
  {
   "cell_type": "code",
   "execution_count": 113,
   "metadata": {},
   "outputs": [],
   "source": [
    "nom     = \"romain\"\n",
    "message = \"Bonjour {nom}\""
   ]
  },
  {
   "cell_type": "code",
   "execution_count": 114,
   "metadata": {},
   "outputs": [
    {
     "data": {
      "text/plain": [
       "'Bonjour jouin'"
      ]
     },
     "execution_count": 114,
     "metadata": {},
     "output_type": "execute_result"
    }
   ],
   "source": [
    "message.format(nom=\"jouin\")"
   ]
  },
  {
   "cell_type": "code",
   "execution_count": 115,
   "metadata": {},
   "outputs": [
    {
     "data": {
      "text/plain": [
       "'Bonjour romain'"
      ]
     },
     "execution_count": 115,
     "metadata": {},
     "output_type": "execute_result"
    }
   ],
   "source": [
    "message.format(**locals())"
   ]
  },
  {
   "cell_type": "markdown",
   "metadata": {},
   "source": [
    "# 14) gestion des listes"
   ]
  },
  {
   "cell_type": "code",
   "execution_count": 141,
   "metadata": {},
   "outputs": [],
   "source": [
    "une_liste = [1, \"mot\", auCarre]"
   ]
  },
  {
   "cell_type": "code",
   "execution_count": 143,
   "metadata": {},
   "outputs": [
    {
     "name": "stdout",
     "output_type": "stream",
     "text": [
      "<class 'int'>\n",
      "<class 'str'>\n",
      "<class 'function'>\n",
      "9\n"
     ]
    }
   ],
   "source": [
    "for x in une_liste:\n",
    "    print(type(x))\n",
    "    if str(type(x)) == \"<class 'function'>\":\n",
    "        print(x(3))"
   ]
  },
  {
   "cell_type": "markdown",
   "metadata": {},
   "source": [
    "#### append"
   ]
  },
  {
   "cell_type": "code",
   "execution_count": 144,
   "metadata": {},
   "outputs": [],
   "source": [
    "une_liste.append(10)"
   ]
  },
  {
   "cell_type": "code",
   "execution_count": 145,
   "metadata": {},
   "outputs": [
    {
     "data": {
      "text/plain": [
       "[1, 'mot', <function __main__.auCarre(x)>, 10]"
      ]
     },
     "execution_count": 145,
     "metadata": {},
     "output_type": "execute_result"
    }
   ],
   "source": [
    "une_liste"
   ]
  },
  {
   "cell_type": "markdown",
   "metadata": {},
   "source": [
    "#### concaténation => renvoie un nouvel objet"
   ]
  },
  {
   "cell_type": "code",
   "execution_count": 148,
   "metadata": {},
   "outputs": [
    {
     "data": {
      "text/plain": [
       "[1,\n",
       " 'mot',\n",
       " <function __main__.auCarre(x)>,\n",
       " 10,\n",
       " 1,\n",
       " 'mot',\n",
       " <function __main__.auCarre(x)>,\n",
       " 10]"
      ]
     },
     "execution_count": 148,
     "metadata": {},
     "output_type": "execute_result"
    }
   ],
   "source": [
    "une_liste + une_liste"
   ]
  },
  {
   "cell_type": "markdown",
   "metadata": {},
   "source": [
    "#### Extend => modifie l'objet de base"
   ]
  },
  {
   "cell_type": "code",
   "execution_count": 149,
   "metadata": {},
   "outputs": [],
   "source": [
    "une_liste.extend(une_liste)"
   ]
  },
  {
   "cell_type": "code",
   "execution_count": 150,
   "metadata": {},
   "outputs": [
    {
     "data": {
      "text/plain": [
       "[1,\n",
       " 'mot',\n",
       " <function __main__.auCarre(x)>,\n",
       " 10,\n",
       " 1,\n",
       " 'mot',\n",
       " <function __main__.auCarre(x)>,\n",
       " 10]"
      ]
     },
     "execution_count": 150,
     "metadata": {},
     "output_type": "execute_result"
    }
   ],
   "source": [
    "une_liste"
   ]
  },
  {
   "cell_type": "markdown",
   "metadata": {},
   "source": [
    "## 14.1) slicing de listes"
   ]
  },
  {
   "cell_type": "code",
   "execution_count": 151,
   "metadata": {},
   "outputs": [
    {
     "data": {
      "text/plain": [
       "[1,\n",
       " 'mot',\n",
       " <function __main__.auCarre(x)>,\n",
       " 10,\n",
       " 1,\n",
       " 'mot',\n",
       " <function __main__.auCarre(x)>,\n",
       " 10]"
      ]
     },
     "execution_count": 151,
     "metadata": {},
     "output_type": "execute_result"
    }
   ],
   "source": [
    "une_liste"
   ]
  },
  {
   "cell_type": "markdown",
   "metadata": {},
   "source": [
    "### Premier éléments : 0"
   ]
  },
  {
   "cell_type": "code",
   "execution_count": 152,
   "metadata": {},
   "outputs": [
    {
     "data": {
      "text/plain": [
       "1"
      ]
     },
     "execution_count": 152,
     "metadata": {},
     "output_type": "execute_result"
    }
   ],
   "source": [
    "une_liste[0]"
   ]
  },
  {
   "cell_type": "markdown",
   "metadata": {},
   "source": [
    "#### derniers éléments"
   ]
  },
  {
   "cell_type": "code",
   "execution_count": 153,
   "metadata": {},
   "outputs": [
    {
     "data": {
      "text/plain": [
       "10"
      ]
     },
     "execution_count": 153,
     "metadata": {},
     "output_type": "execute_result"
    }
   ],
   "source": [
    "une_liste[-1]"
   ]
  },
  {
   "cell_type": "code",
   "execution_count": 154,
   "metadata": {},
   "outputs": [
    {
     "data": {
      "text/plain": [
       "<function __main__.auCarre(x)>"
      ]
     },
     "execution_count": 154,
     "metadata": {},
     "output_type": "execute_result"
    }
   ],
   "source": [
    "une_liste[-2]"
   ]
  },
  {
   "cell_type": "markdown",
   "metadata": {},
   "source": [
    "#### Deux derniers élements"
   ]
  },
  {
   "cell_type": "code",
   "execution_count": 155,
   "metadata": {},
   "outputs": [
    {
     "data": {
      "text/plain": [
       "[<function __main__.auCarre(x)>, 10]"
      ]
     },
     "execution_count": 155,
     "metadata": {},
     "output_type": "execute_result"
    }
   ],
   "source": [
    "une_liste[-2:]"
   ]
  },
  {
   "cell_type": "markdown",
   "metadata": {},
   "source": [
    "### N premiers élements"
   ]
  },
  {
   "cell_type": "code",
   "execution_count": 157,
   "metadata": {},
   "outputs": [
    {
     "data": {
      "text/plain": [
       "[1, 'mot', <function __main__.auCarre(x)>, 10]"
      ]
     },
     "execution_count": 157,
     "metadata": {},
     "output_type": "execute_result"
    }
   ],
   "source": [
    "n = 4\n",
    "une_liste[:n]"
   ]
  },
  {
   "cell_type": "markdown",
   "metadata": {},
   "source": [
    "### Un élément sur deux"
   ]
  },
  {
   "cell_type": "code",
   "execution_count": 159,
   "metadata": {},
   "outputs": [
    {
     "data": {
      "text/plain": [
       "[1, <function __main__.auCarre(x)>, 1, <function __main__.auCarre(x)>]"
      ]
     },
     "execution_count": 159,
     "metadata": {},
     "output_type": "execute_result"
    }
   ],
   "source": [
    "pas_de_récuparation  =2\n",
    "une_liste[::pas_de_récuparation]"
   ]
  },
  {
   "cell_type": "code",
   "execution_count": 160,
   "metadata": {},
   "outputs": [
    {
     "data": {
      "text/plain": [
       "[1, 10, <function __main__.auCarre(x)>]"
      ]
     },
     "execution_count": 160,
     "metadata": {},
     "output_type": "execute_result"
    }
   ],
   "source": [
    "pas_de_récuparation  = 3\n",
    "une_liste[::pas_de_récuparation]"
   ]
  },
  {
   "cell_type": "markdown",
   "metadata": {},
   "source": [
    "# Itérateurs : range n'est pas monté en mémoire"
   ]
  },
  {
   "cell_type": "code",
   "execution_count": 166,
   "metadata": {},
   "outputs": [],
   "source": [
    "iterateur_de_zero_a_cent = range(0,100)"
   ]
  },
  {
   "cell_type": "code",
   "execution_count": 167,
   "metadata": {},
   "outputs": [
    {
     "data": {
      "text/plain": [
       "range(0, 100)"
      ]
     },
     "execution_count": 167,
     "metadata": {},
     "output_type": "execute_result"
    }
   ],
   "source": [
    "iterateur_de_zero_a_cent"
   ]
  },
  {
   "cell_type": "markdown",
   "metadata": {},
   "source": [
    "# La liste est montée en mémoire"
   ]
  },
  {
   "cell_type": "code",
   "execution_count": 170,
   "metadata": {},
   "outputs": [],
   "source": [
    "liste_de_zero_a_cent = list(iterateur_de_zero_a_cent)"
   ]
  },
  {
   "cell_type": "markdown",
   "metadata": {},
   "source": [
    "### Prendre un élément sur deux entre 50 et 60 : "
   ]
  },
  {
   "cell_type": "code",
   "execution_count": 177,
   "metadata": {},
   "outputs": [
    {
     "data": {
      "text/plain": [
       "[50, 52, 54, 56, 58]"
      ]
     },
     "execution_count": 177,
     "metadata": {},
     "output_type": "execute_result"
    }
   ],
   "source": [
    "liste_de_zero_a_cent[50:60:2]"
   ]
  },
  {
   "cell_type": "markdown",
   "metadata": {},
   "source": [
    "## 14.2) Enumerate"
   ]
  },
  {
   "cell_type": "code",
   "execution_count": 184,
   "metadata": {},
   "outputs": [],
   "source": [
    "valeur_de_stock = range(0,100)"
   ]
  },
  {
   "cell_type": "code",
   "execution_count": 192,
   "metadata": {},
   "outputs": [
    {
     "data": {
      "text/plain": [
       "30"
      ]
     },
     "execution_count": 192,
     "metadata": {},
     "output_type": "execute_result"
    }
   ],
   "source": [
    "valeur_de_stock[30]"
   ]
  },
  {
   "cell_type": "markdown",
   "metadata": {},
   "source": [
    "# Exo : comment calculer les % de variations entre chaque valeur de stock\n",
    "\n",
    "0\n",
    "\n",
    "1    \n",
    "\n",
    "2 => + 100 % p/p à 1  \n",
    "3 => + 50  % p/p à 2  \n",
    "\n"
   ]
  },
  {
   "cell_type": "markdown",
   "metadata": {},
   "source": [
    "#### Idée de florian"
   ]
  },
  {
   "cell_type": "code",
   "execution_count": null,
   "metadata": {},
   "outputs": [],
   "source": [
    "def comparaison(liste_1, valeur_de_stock):\n",
    "    liste_1[-1]\n",
    "    return liste_1 - valeur_de_stock"
   ]
  },
  {
   "cell_type": "markdown",
   "metadata": {},
   "source": [
    "#### idée de philippe"
   ]
  },
  {
   "cell_type": "code",
   "execution_count": 223,
   "metadata": {},
   "outputs": [
    {
     "name": "stdout",
     "output_type": "stream",
     "text": [
      "  1 =>   2 soit   100.00 d'augmentation\n",
      "  2 =>   3 soit   50.00 d'augmentation\n",
      "  3 =>   4 soit   33.33 d'augmentation\n",
      "  4 =>   5 soit   25.00 d'augmentation\n",
      "  5 =>   6 soit   20.00 d'augmentation\n",
      "  6 =>   7 soit   16.67 d'augmentation\n",
      "  7 =>   8 soit   14.29 d'augmentation\n",
      "  8 =>   9 soit   12.50 d'augmentation\n",
      "  9 =>  10 soit   11.11 d'augmentation\n",
      " 10 =>  11 soit   10.00 d'augmentation\n",
      " 11 =>  12 soit    9.09 d'augmentation\n",
      " 12 =>  13 soit    8.33 d'augmentation\n",
      " 13 =>  14 soit    7.69 d'augmentation\n",
      " 14 =>  15 soit    7.14 d'augmentation\n",
      " 15 =>  16 soit    6.67 d'augmentation\n",
      " 16 =>  17 soit    6.25 d'augmentation\n",
      " 17 =>  18 soit    5.88 d'augmentation\n",
      " 18 =>  19 soit    5.56 d'augmentation\n",
      " 19 =>  20 soit    5.26 d'augmentation\n",
      " 20 =>  21 soit    5.00 d'augmentation\n",
      " 21 =>  22 soit    4.76 d'augmentation\n",
      " 22 =>  23 soit    4.55 d'augmentation\n",
      " 23 =>  24 soit    4.35 d'augmentation\n",
      " 24 =>  25 soit    4.17 d'augmentation\n",
      " 25 =>  26 soit    4.00 d'augmentation\n",
      " 26 =>  27 soit    3.85 d'augmentation\n",
      " 27 =>  28 soit    3.70 d'augmentation\n",
      " 28 =>  29 soit    3.57 d'augmentation\n",
      " 29 =>  30 soit    3.45 d'augmentation\n",
      " 30 =>  31 soit    3.33 d'augmentation\n",
      " 31 =>  32 soit    3.23 d'augmentation\n",
      " 32 =>  33 soit    3.12 d'augmentation\n",
      " 33 =>  34 soit    3.03 d'augmentation\n",
      " 34 =>  35 soit    2.94 d'augmentation\n",
      " 35 =>  36 soit    2.86 d'augmentation\n",
      " 36 =>  37 soit    2.78 d'augmentation\n",
      " 37 =>  38 soit    2.70 d'augmentation\n",
      " 38 =>  39 soit    2.63 d'augmentation\n",
      " 39 =>  40 soit    2.56 d'augmentation\n",
      " 40 =>  41 soit    2.50 d'augmentation\n",
      " 41 =>  42 soit    2.44 d'augmentation\n",
      " 42 =>  43 soit    2.38 d'augmentation\n",
      " 43 =>  44 soit    2.33 d'augmentation\n",
      " 44 =>  45 soit    2.27 d'augmentation\n",
      " 45 =>  46 soit    2.22 d'augmentation\n",
      " 46 =>  47 soit    2.17 d'augmentation\n",
      " 47 =>  48 soit    2.13 d'augmentation\n",
      " 48 =>  49 soit    2.08 d'augmentation\n",
      " 49 =>  50 soit    2.04 d'augmentation\n",
      " 50 =>  51 soit    2.00 d'augmentation\n",
      " 51 =>  52 soit    1.96 d'augmentation\n",
      " 52 =>  53 soit    1.92 d'augmentation\n",
      " 53 =>  54 soit    1.89 d'augmentation\n",
      " 54 =>  55 soit    1.85 d'augmentation\n",
      " 55 =>  56 soit    1.82 d'augmentation\n",
      " 56 =>  57 soit    1.79 d'augmentation\n",
      " 57 =>  58 soit    1.75 d'augmentation\n",
      " 58 =>  59 soit    1.72 d'augmentation\n",
      " 59 =>  60 soit    1.69 d'augmentation\n",
      " 60 =>  61 soit    1.67 d'augmentation\n",
      " 61 =>  62 soit    1.64 d'augmentation\n",
      " 62 =>  63 soit    1.61 d'augmentation\n",
      " 63 =>  64 soit    1.59 d'augmentation\n",
      " 64 =>  65 soit    1.56 d'augmentation\n",
      " 65 =>  66 soit    1.54 d'augmentation\n",
      " 66 =>  67 soit    1.52 d'augmentation\n",
      " 67 =>  68 soit    1.49 d'augmentation\n",
      " 68 =>  69 soit    1.47 d'augmentation\n",
      " 69 =>  70 soit    1.45 d'augmentation\n",
      " 70 =>  71 soit    1.43 d'augmentation\n",
      " 71 =>  72 soit    1.41 d'augmentation\n",
      " 72 =>  73 soit    1.39 d'augmentation\n",
      " 73 =>  74 soit    1.37 d'augmentation\n",
      " 74 =>  75 soit    1.35 d'augmentation\n",
      " 75 =>  76 soit    1.33 d'augmentation\n",
      " 76 =>  77 soit    1.32 d'augmentation\n",
      " 77 =>  78 soit    1.30 d'augmentation\n",
      " 78 =>  79 soit    1.28 d'augmentation\n",
      " 79 =>  80 soit    1.27 d'augmentation\n",
      " 80 =>  81 soit    1.25 d'augmentation\n",
      " 81 =>  82 soit    1.23 d'augmentation\n",
      " 82 =>  83 soit    1.22 d'augmentation\n",
      " 83 =>  84 soit    1.20 d'augmentation\n",
      " 84 =>  85 soit    1.19 d'augmentation\n",
      " 85 =>  86 soit    1.18 d'augmentation\n",
      " 86 =>  87 soit    1.16 d'augmentation\n",
      " 87 =>  88 soit    1.15 d'augmentation\n",
      " 88 =>  89 soit    1.14 d'augmentation\n",
      " 89 =>  90 soit    1.12 d'augmentation\n",
      " 90 =>  91 soit    1.11 d'augmentation\n",
      " 91 =>  92 soit    1.10 d'augmentation\n",
      " 92 =>  93 soit    1.09 d'augmentation\n",
      " 93 =>  94 soit    1.08 d'augmentation\n",
      " 94 =>  95 soit    1.06 d'augmentation\n",
      " 95 =>  96 soit    1.05 d'augmentation\n",
      " 96 =>  97 soit    1.04 d'augmentation\n",
      " 97 =>  98 soit    1.03 d'augmentation\n",
      " 98 =>  99 soit    1.02 d'augmentation\n"
     ]
    }
   ],
   "source": [
    "n = 0\n",
    "for n in range(2, 100):\n",
    "    valeur_precedente = valeur_de_stock[n-1]\n",
    "    valeur_actuelle   = valeur_de_stock[n]\n",
    "    pourcentage       = ((valeur_actuelle - valeur_precedente) / valeur_precedente) * 100\n",
    "    print( f\"{valeur_precedente: 3} => {valeur_actuelle: 3} soit  {pourcentage: 6.2f} d'augmentation\")\n"
   ]
  },
  {
   "cell_type": "code",
   "execution_count": 238,
   "metadata": {},
   "outputs": [
    {
     "name": "stdout",
     "output_type": "stream",
     "text": [
      "  1 =>   2 soit   100.00 d'augmentation\n",
      "  2 =>   3 soit    50.00 d'augmentation\n",
      "  3 =>   4 soit    33.33 d'augmentation\n",
      "  4 =>   5 soit    25.00 d'augmentation\n",
      "  5 =>   6 soit    20.00 d'augmentation\n",
      "  6 =>   7 soit    16.67 d'augmentation\n",
      "  7 =>   8 soit    14.29 d'augmentation\n",
      "  8 =>   9 soit    12.50 d'augmentation\n",
      "  9 =>  10 soit    11.11 d'augmentation\n",
      " 10 =>  11 soit    10.00 d'augmentation\n",
      " 11 =>  12 soit     9.09 d'augmentation\n",
      " 12 =>  13 soit     8.33 d'augmentation\n",
      " 13 =>  14 soit     7.69 d'augmentation\n",
      " 14 =>  15 soit     7.14 d'augmentation\n",
      " 15 =>  16 soit     6.67 d'augmentation\n",
      " 16 =>  17 soit     6.25 d'augmentation\n",
      " 17 =>  18 soit     5.88 d'augmentation\n",
      " 18 =>  19 soit     5.56 d'augmentation\n",
      " 19 =>  20 soit     5.26 d'augmentation\n",
      " 20 =>  21 soit     5.00 d'augmentation\n",
      " 21 =>  22 soit     4.76 d'augmentation\n",
      " 22 =>  23 soit     4.55 d'augmentation\n",
      " 23 =>  24 soit     4.35 d'augmentation\n",
      " 24 =>  25 soit     4.17 d'augmentation\n",
      " 25 =>  26 soit     4.00 d'augmentation\n",
      " 26 =>  27 soit     3.85 d'augmentation\n",
      " 27 =>  28 soit     3.70 d'augmentation\n",
      " 28 =>  29 soit     3.57 d'augmentation\n",
      " 29 =>  30 soit     3.45 d'augmentation\n",
      " 30 =>  31 soit     3.33 d'augmentation\n",
      " 31 =>  32 soit     3.23 d'augmentation\n",
      " 32 =>  33 soit     3.12 d'augmentation\n",
      " 33 =>  34 soit     3.03 d'augmentation\n",
      " 34 =>  35 soit     2.94 d'augmentation\n",
      " 35 =>  36 soit     2.86 d'augmentation\n",
      " 36 =>  37 soit     2.78 d'augmentation\n",
      " 37 =>  38 soit     2.70 d'augmentation\n",
      " 38 =>  39 soit     2.63 d'augmentation\n",
      " 39 =>  40 soit     2.56 d'augmentation\n",
      " 40 =>  41 soit     2.50 d'augmentation\n",
      " 41 =>  42 soit     2.44 d'augmentation\n",
      " 42 =>  43 soit     2.38 d'augmentation\n",
      " 43 =>  44 soit     2.33 d'augmentation\n",
      " 44 =>  45 soit     2.27 d'augmentation\n",
      " 45 =>  46 soit     2.22 d'augmentation\n",
      " 46 =>  47 soit     2.17 d'augmentation\n",
      " 47 =>  48 soit     2.13 d'augmentation\n",
      " 48 =>  49 soit     2.08 d'augmentation\n",
      " 49 =>  50 soit     2.04 d'augmentation\n",
      " 50 =>  51 soit     2.00 d'augmentation\n",
      " 51 =>  52 soit     1.96 d'augmentation\n",
      " 52 =>  53 soit     1.92 d'augmentation\n",
      " 53 =>  54 soit     1.89 d'augmentation\n",
      " 54 =>  55 soit     1.85 d'augmentation\n",
      " 55 =>  56 soit     1.82 d'augmentation\n",
      " 56 =>  57 soit     1.79 d'augmentation\n",
      " 57 =>  58 soit     1.75 d'augmentation\n",
      " 58 =>  59 soit     1.72 d'augmentation\n",
      " 59 =>  60 soit     1.69 d'augmentation\n",
      " 60 =>  61 soit     1.67 d'augmentation\n",
      " 61 =>  62 soit     1.64 d'augmentation\n",
      " 62 =>  63 soit     1.61 d'augmentation\n",
      " 63 =>  64 soit     1.59 d'augmentation\n",
      " 64 =>  65 soit     1.56 d'augmentation\n",
      " 65 =>  66 soit     1.54 d'augmentation\n",
      " 66 =>  67 soit     1.52 d'augmentation\n",
      " 67 =>  68 soit     1.49 d'augmentation\n",
      " 68 =>  69 soit     1.47 d'augmentation\n",
      " 69 =>  70 soit     1.45 d'augmentation\n",
      " 70 =>  71 soit     1.43 d'augmentation\n",
      " 71 =>  72 soit     1.41 d'augmentation\n",
      " 72 =>  73 soit     1.39 d'augmentation\n",
      " 73 =>  74 soit     1.37 d'augmentation\n",
      " 74 =>  75 soit     1.35 d'augmentation\n",
      " 75 =>  76 soit     1.33 d'augmentation\n",
      " 76 =>  77 soit     1.32 d'augmentation\n",
      " 77 =>  78 soit     1.30 d'augmentation\n",
      " 78 =>  79 soit     1.28 d'augmentation\n",
      " 79 =>  80 soit     1.27 d'augmentation\n",
      " 80 =>  81 soit     1.25 d'augmentation\n",
      " 81 =>  82 soit     1.23 d'augmentation\n",
      " 82 =>  83 soit     1.22 d'augmentation\n",
      " 83 =>  84 soit     1.20 d'augmentation\n",
      " 84 =>  85 soit     1.19 d'augmentation\n",
      " 85 =>  86 soit     1.18 d'augmentation\n",
      " 86 =>  87 soit     1.16 d'augmentation\n",
      " 87 =>  88 soit     1.15 d'augmentation\n",
      " 88 =>  89 soit     1.14 d'augmentation\n",
      " 89 =>  90 soit     1.12 d'augmentation\n",
      " 90 =>  91 soit     1.11 d'augmentation\n",
      " 91 =>  92 soit     1.10 d'augmentation\n",
      " 92 =>  93 soit     1.09 d'augmentation\n",
      " 93 =>  94 soit     1.08 d'augmentation\n",
      " 94 =>  95 soit     1.06 d'augmentation\n",
      " 95 =>  96 soit     1.05 d'augmentation\n",
      " 96 =>  97 soit     1.04 d'augmentation\n",
      " 97 =>  98 soit     1.03 d'augmentation\n",
      " 98 =>  99 soit     1.02 d'augmentation\n"
     ]
    }
   ],
   "source": [
    "for n, valeur_actuelle in enumerate(valeur_de_stock):\n",
    "    if 0 < n:\n",
    "        valeur_precedente = valeur_de_stock[n-1]\n",
    "        if valeur_precedente != 0:\n",
    "            pourcentage       = ((valeur_actuelle - valeur_precedente) / valeur_precedente) * 100\n",
    "            print( f\"{valeur_precedente: 3} => {valeur_actuelle: 3} soit  {pourcentage: 7.2f} d'augmentation\")"
   ]
  },
  {
   "cell_type": "code",
   "execution_count": 183,
   "metadata": {},
   "outputs": [
    {
     "data": {
      "application/javascript": [
       "IPython.notebook.save_checkpoint();"
      ],
      "text/plain": [
       "<IPython.core.display.Javascript object>"
      ]
     },
     "metadata": {},
     "output_type": "display_data"
    },
    {
     "name": "stdout",
     "output_type": "stream",
     "text": [
      "git add .\n",
      "git commit -m 'pour faire l'exo'\n",
      "git push\n",
      "Fini.\n"
     ]
    }
   ],
   "source": [
    "push(\"pour faire l'exo\")"
   ]
  },
  {
   "cell_type": "markdown",
   "metadata": {},
   "source": [
    "# 16) zip : un itérateur qui ne marche qu'une fois"
   ]
  },
  {
   "cell_type": "code",
   "execution_count": 240,
   "metadata": {},
   "outputs": [],
   "source": [
    "iterateur = zip(liste_de_zero_a_cent, liste_de_zero_a_cent)"
   ]
  },
  {
   "cell_type": "code",
   "execution_count": 257,
   "metadata": {},
   "outputs": [],
   "source": [
    "lettres_de_l_alphabet = \"abcdefghiklmnopqrstuvwxyz\"\n",
    "iterateur = zip(range(100), lettres_de_l_alphabet)"
   ]
  },
  {
   "cell_type": "code",
   "execution_count": 258,
   "metadata": {},
   "outputs": [],
   "source": [
    "indices_Des_lettres_de_l_alphabet = list(iterateur)"
   ]
  },
  {
   "cell_type": "code",
   "execution_count": 259,
   "metadata": {},
   "outputs": [
    {
     "data": {
      "text/plain": [
       "[(0, 'a'),\n",
       " (1, 'b'),\n",
       " (2, 'c'),\n",
       " (3, 'd'),\n",
       " (4, 'e'),\n",
       " (5, 'f'),\n",
       " (6, 'g'),\n",
       " (7, 'h'),\n",
       " (8, 'i'),\n",
       " (9, 'k'),\n",
       " (10, 'l'),\n",
       " (11, 'm'),\n",
       " (12, 'n'),\n",
       " (13, 'o'),\n",
       " (14, 'p'),\n",
       " (15, 'q'),\n",
       " (16, 'r'),\n",
       " (17, 's'),\n",
       " (18, 't'),\n",
       " (19, 'u'),\n",
       " (20, 'v'),\n",
       " (21, 'w'),\n",
       " (22, 'x'),\n",
       " (23, 'y'),\n",
       " (24, 'z')]"
      ]
     },
     "execution_count": 259,
     "metadata": {},
     "output_type": "execute_result"
    }
   ],
   "source": [
    "indices_Des_lettres_de_l_alphabet"
   ]
  },
  {
   "cell_type": "markdown",
   "metadata": {},
   "source": [
    "# 17) Dico"
   ]
  },
  {
   "cell_type": "code",
   "execution_count": 261,
   "metadata": {},
   "outputs": [],
   "source": [
    "dico = dict(indices_Des_lettres_de_l_alphabet)"
   ]
  },
  {
   "cell_type": "code",
   "execution_count": 262,
   "metadata": {},
   "outputs": [
    {
     "data": {
      "text/plain": [
       "{0: 'a',\n",
       " 1: 'b',\n",
       " 2: 'c',\n",
       " 3: 'd',\n",
       " 4: 'e',\n",
       " 5: 'f',\n",
       " 6: 'g',\n",
       " 7: 'h',\n",
       " 8: 'i',\n",
       " 9: 'k',\n",
       " 10: 'l',\n",
       " 11: 'm',\n",
       " 12: 'n',\n",
       " 13: 'o',\n",
       " 14: 'p',\n",
       " 15: 'q',\n",
       " 16: 'r',\n",
       " 17: 's',\n",
       " 18: 't',\n",
       " 19: 'u',\n",
       " 20: 'v',\n",
       " 21: 'w',\n",
       " 22: 'x',\n",
       " 23: 'y',\n",
       " 24: 'z'}"
      ]
     },
     "execution_count": 262,
     "metadata": {},
     "output_type": "execute_result"
    }
   ],
   "source": [
    "dico"
   ]
  },
  {
   "cell_type": "code",
   "execution_count": 263,
   "metadata": {},
   "outputs": [
    {
     "data": {
      "text/plain": [
       "'d'"
      ]
     },
     "execution_count": 263,
     "metadata": {},
     "output_type": "execute_result"
    }
   ],
   "source": [
    "dico[3]"
   ]
  },
  {
   "cell_type": "code",
   "execution_count": 264,
   "metadata": {},
   "outputs": [
    {
     "data": {
      "text/plain": [
       "dict_keys([0, 1, 2, 3, 4, 5, 6, 7, 8, 9, 10, 11, 12, 13, 14, 15, 16, 17, 18, 19, 20, 21, 22, 23, 24])"
      ]
     },
     "execution_count": 264,
     "metadata": {},
     "output_type": "execute_result"
    }
   ],
   "source": [
    "dico.keys()"
   ]
  },
  {
   "cell_type": "code",
   "execution_count": 265,
   "metadata": {},
   "outputs": [
    {
     "data": {
      "text/plain": [
       "dict_values(['a', 'b', 'c', 'd', 'e', 'f', 'g', 'h', 'i', 'k', 'l', 'm', 'n', 'o', 'p', 'q', 'r', 's', 't', 'u', 'v', 'w', 'x', 'y', 'z'])"
      ]
     },
     "execution_count": 265,
     "metadata": {},
     "output_type": "execute_result"
    }
   ],
   "source": [
    "dico.values()"
   ]
  },
  {
   "cell_type": "markdown",
   "metadata": {},
   "source": [
    "## Itération sur un dico : items()"
   ]
  },
  {
   "cell_type": "code",
   "execution_count": 273,
   "metadata": {},
   "outputs": [
    {
     "name": "stdout",
     "output_type": "stream",
     "text": [
      "la 1. lettre de l'alphabet est a\n",
      "la 2. lettre de l'alphabet est b\n",
      "la 3. lettre de l'alphabet est c\n",
      "la 4. lettre de l'alphabet est d\n",
      "la 5. lettre de l'alphabet est e\n",
      "la 6. lettre de l'alphabet est f\n",
      "la 7. lettre de l'alphabet est g\n",
      "la 8. lettre de l'alphabet est h\n",
      "la 9. lettre de l'alphabet est i\n",
      "la 10. lettre de l'alphabet est k\n",
      "la 11. lettre de l'alphabet est l\n",
      "la 12. lettre de l'alphabet est m\n",
      "la 13. lettre de l'alphabet est n\n",
      "la 14. lettre de l'alphabet est o\n",
      "la 15. lettre de l'alphabet est p\n",
      "la 16. lettre de l'alphabet est q\n",
      "la 17. lettre de l'alphabet est r\n",
      "la 18. lettre de l'alphabet est s\n",
      "la 19. lettre de l'alphabet est t\n",
      "la 20. lettre de l'alphabet est u\n",
      "la 21. lettre de l'alphabet est v\n",
      "la 22. lettre de l'alphabet est w\n",
      "la 23. lettre de l'alphabet est x\n",
      "la 24. lettre de l'alphabet est y\n",
      "la 25. lettre de l'alphabet est z\n"
     ]
    }
   ],
   "source": [
    "for clef, valeur in dico.items():\n",
    "    print(f\"la {clef+1}. lettre de l'alphabet est {valeur}\")"
   ]
  },
  {
   "cell_type": "markdown",
   "metadata": {},
   "source": [
    "# 18) Comprehension list"
   ]
  },
  {
   "cell_type": "markdown",
   "metadata": {},
   "source": [
    "## 18.0) création \"classique\" d'une liste"
   ]
  },
  {
   "cell_type": "code",
   "execution_count": 276,
   "metadata": {},
   "outputs": [
    {
     "data": {
      "text/plain": [
       "[0, 2, 4, 6, 8, 10, 12, 14, 16, 18]"
      ]
     },
     "execution_count": 276,
     "metadata": {},
     "output_type": "execute_result"
    }
   ],
   "source": [
    "liste = []\n",
    "for x in range(10):\n",
    "    liste.append(2*x)\n",
    "liste"
   ]
  },
  {
   "cell_type": "markdown",
   "metadata": {},
   "source": [
    "## 18.1) vectorisation de code : création efficiente d'une liste, par comprehension liste"
   ]
  },
  {
   "cell_type": "code",
   "execution_count": 277,
   "metadata": {},
   "outputs": [],
   "source": [
    "resultat = [ 2*x for x in range(10) ] "
   ]
  },
  {
   "cell_type": "code",
   "execution_count": 278,
   "metadata": {},
   "outputs": [
    {
     "data": {
      "text/plain": [
       "[0, 2, 4, 6, 8, 10, 12, 14, 16, 18]"
      ]
     },
     "execution_count": 278,
     "metadata": {},
     "output_type": "execute_result"
    }
   ],
   "source": [
    "resultat"
   ]
  },
  {
   "cell_type": "markdown",
   "metadata": {},
   "source": [
    "## 18.2) comprehension dict : vectorisation de code pour la création de dictionnaire"
   ]
  },
  {
   "cell_type": "code",
   "execution_count": 292,
   "metadata": {},
   "outputs": [],
   "source": [
    "from pprint import pprint"
   ]
  },
  {
   "cell_type": "code",
   "execution_count": 294,
   "metadata": {},
   "outputs": [],
   "source": [
    "dico = { clef: 2*clef for clef in range(10)}"
   ]
  },
  {
   "cell_type": "code",
   "execution_count": 295,
   "metadata": {},
   "outputs": [
    {
     "name": "stdout",
     "output_type": "stream",
     "text": [
      "{0: 0, 1: 2, 2: 4, 3: 6, 4: 8, 5: 10, 6: 12, 7: 14, 8: 16, 9: 18}\n"
     ]
    }
   ],
   "source": [
    "pprint(dico)"
   ]
  },
  {
   "cell_type": "markdown",
   "metadata": {},
   "source": [
    "# 19) lambda fonction"
   ]
  },
  {
   "cell_type": "markdown",
   "metadata": {},
   "source": [
    "## 19.1) fonction \"classique“ : sur deux lignes, avec un return, et un mot clef \"def\""
   ]
  },
  {
   "cell_type": "code",
   "execution_count": 282,
   "metadata": {},
   "outputs": [],
   "source": [
    "def multi_usage():\n",
    "    return [ 2*x for x in range(10) ] "
   ]
  },
  {
   "cell_type": "code",
   "execution_count": 283,
   "metadata": {},
   "outputs": [
    {
     "data": {
      "text/plain": [
       "[0, 2, 4, 6, 8, 10, 12, 14, 16, 18]"
      ]
     },
     "execution_count": 283,
     "metadata": {},
     "output_type": "execute_result"
    }
   ],
   "source": [
    "multi_usage()"
   ]
  },
  {
   "cell_type": "markdown",
   "metadata": {},
   "source": [
    "## 19.2) lambda fonction : sur une seule ligne, sans mot clef \"def\", et sans return"
   ]
  },
  {
   "cell_type": "code",
   "execution_count": 285,
   "metadata": {},
   "outputs": [],
   "source": [
    "multi_usage = lambda x : [ 2*x for x in range(x) ] "
   ]
  },
  {
   "cell_type": "code",
   "execution_count": 286,
   "metadata": {},
   "outputs": [
    {
     "data": {
      "text/plain": [
       "[0, 2, 4, 6, 8, 10, 12, 14, 16, 18]"
      ]
     },
     "execution_count": 286,
     "metadata": {},
     "output_type": "execute_result"
    }
   ],
   "source": [
    "multi_usage(10)"
   ]
  },
  {
   "cell_type": "code",
   "execution_count": null,
   "metadata": {},
   "outputs": [],
   "source": []
  }
 ],
 "metadata": {
  "kernelspec": {
   "display_name": "Python 3",
   "language": "python",
   "name": "python3"
  },
  "language_info": {
   "codemirror_mode": {
    "name": "ipython",
    "version": 3
   },
   "file_extension": ".py",
   "mimetype": "text/x-python",
   "name": "python",
   "nbconvert_exporter": "python",
   "pygments_lexer": "ipython3",
   "version": "3.8.5"
  }
 },
 "nbformat": 4,
 "nbformat_minor": 4
}
